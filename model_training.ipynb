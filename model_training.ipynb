{
 "metadata": {
  "language_info": {
   "codemirror_mode": {
    "name": "ipython",
    "version": 3
   },
   "file_extension": ".py",
   "mimetype": "text/x-python",
   "name": "python",
   "nbconvert_exporter": "python",
   "pygments_lexer": "ipython3",
   "version": "3.7.10"
  },
  "orig_nbformat": 2,
  "kernelspec": {
   "name": "python3710jvsc74a57bd093f4f5b237b8f8df832884c2e2dec106b12a1aa580993933cf7074bb792b7374",
   "display_name": "Python 3.7.10 64-bit ('chessenv': conda)"
  },
  "metadata": {
   "interpreter": {
    "hash": "93f4f5b237b8f8df832884c2e2dec106b12a1aa580993933cf7074bb792b7374"
   }
  }
 },
 "nbformat": 4,
 "nbformat_minor": 2,
 "cells": [
  {
   "cell_type": "code",
   "execution_count": 49,
   "metadata": {},
   "outputs": [],
   "source": [
    "import numpy as np\n",
    "import pandas as pd\n",
    "import seaborn as sns\n",
    "\n",
    "%matplotlib inline\n",
    "import matplotlib.pyplot as plt\n",
    "import time\n",
    "import torch\n",
    "from tqdm import tqdm\n",
    "from sklearn import metrics"
   ]
  },
  {
   "cell_type": "code",
   "execution_count": 50,
   "metadata": {},
   "outputs": [],
   "source": [
    "class ChessData(torch.utils.data.Dataset):\n",
    "    def __init__(self, path):\n",
    "        self.df = pd.read_csv(path, index_col=0)\n",
    "\n",
    "    def __len__(self):\n",
    "        return len(self.df)\n",
    "\n",
    "    def __getitem__(self, idx):\n",
    "        row = self.df.iloc[idx]\n",
    "\n",
    "        inputs = row[:321].values.astype(np.float32)\n",
    "        outputs = row[321:].values.astype(np.float32)\n",
    "\n",
    "        return {'board': inputs, 'themes': outputs}\n"
   ]
  },
  {
   "cell_type": "code",
   "execution_count": 51,
   "metadata": {},
   "outputs": [],
   "source": [
    "from torch.utils.data import DataLoader\n",
    "\n",
    "chess_data_set = ChessData('cleaned_puzzle_batches/cleaned_train_puzzles.csv')\n",
    "\n",
    "train_dataloader = DataLoader(chess_data_set, batch_size=256, num_workers=4, persistent_workers=True, shuffle=True)"
   ]
  },
  {
   "cell_type": "code",
   "execution_count": 52,
   "metadata": {},
   "outputs": [],
   "source": [
    "chess_validation_set = ChessData('cleaned_puzzle_batches/cleaned_validation_puzzles.csv')\n",
    "\n",
    "validation_dataloader = DataLoader(chess_validation_set, batch_size=256, num_workers=4, persistent_workers=True)"
   ]
  },
  {
   "cell_type": "code",
   "execution_count": 68,
   "metadata": {},
   "outputs": [],
   "source": [
    "import torch.nn as nn\n",
    "\n",
    "net = nn.Sequential(\n",
    "    nn.Linear(321, 128),\n",
    "    nn.BatchNorm1d(128),\n",
    "    nn.ReLU(),\n",
    "    nn.Linear(128, 64),\n",
    "    nn.BatchNorm1d(64),\n",
    "    nn.ReLU(),\n",
    "    nn.Linear(64, 28),\n",
    ")\n"
   ]
  },
  {
   "cell_type": "code",
   "execution_count": 69,
   "metadata": {},
   "outputs": [],
   "source": [
    "optim = torch.optim.Adam(net.parameters(), lr=1e-3)\n",
    "\n",
    "loss_fn = nn.BCEWithLogitsLoss()"
   ]
  },
  {
   "cell_type": "code",
   "execution_count": 70,
   "metadata": {},
   "outputs": [
    {
     "output_type": "stream",
     "name": "stderr",
     "text": [
      "100%|██████████| 2428/2428 [00:51<00:00, 47.42it/s]\n",
      "100%|██████████| 2428/2428 [00:47<00:00, 51.45it/s]\n",
      "100%|██████████| 2428/2428 [00:47<00:00, 51.65it/s]\n",
      "100%|██████████| 2428/2428 [00:48<00:00, 50.42it/s]\n",
      "100%|██████████| 2428/2428 [00:47<00:00, 50.59it/s]\n"
     ]
    }
   ],
   "source": [
    "net = net.cuda()\n",
    "net.train()\n",
    "\n",
    "for epoch in range(1, 6):\n",
    "    for batch in tqdm(train_dataloader):\n",
    "        X = batch['board'].cuda()\n",
    "\n",
    "        pred = net(X)\n",
    "        loss = loss_fn(pred, batch['themes'].cuda())\n",
    "\n",
    "        optim.zero_grad()\n",
    "        loss.backward()\n",
    "\n",
    "        optim.step()\n",
    "    \n",
    "    # validar e printar aqui grafico de acuracia x epoch (do treino e da validaçao)\n",
    "\n",
    "    # torch save model.state_dict\n"
   ]
  },
  {
   "cell_type": "code",
   "execution_count": 71,
   "metadata": {},
   "outputs": [
    {
     "output_type": "stream",
     "name": "stderr",
     "text": [
      "100%|██████████| 607/607 [00:11<00:00, 53.27it/s]\n"
     ]
    }
   ],
   "source": [
    "net.eval()\n",
    "total_loss = 0\n",
    "\n",
    "y_true = []\n",
    "y_pred = []\n",
    "\n",
    "for batch in tqdm(validation_dataloader):\n",
    "    X = batch['board'].cuda()\n",
    "\n",
    "    with torch.no_grad():\n",
    "        pred = net(X)\n",
    "\n",
    "    loss = loss_fn(pred, batch['themes'].cuda())\n",
    "    total_loss += loss\n",
    "\n",
    "    y_true.append(batch['themes'].numpy())\n",
    "    y_pred.append(pred.sigmoid().cpu().numpy())\n",
    "\n",
    "y_true = np.vstack(y_true)\n",
    "y_pred = np.vstack(y_pred)\n"
   ]
  },
  {
   "cell_type": "code",
   "execution_count": 72,
   "metadata": {},
   "outputs": [
    {
     "output_type": "execute_result",
     "data": {
      "text/plain": [
       "0.27066667524761395"
      ]
     },
     "metadata": {},
     "execution_count": 72
    }
   ],
   "source": [
    "metrics.accuracy_score(y_true, y_pred > 0.5)\n",
    "#metrics.precision_score(y_true, y_pred > 0, average='micro')\n",
    "#metrics.precision_score(y_true, y_pred > 0, average='macro')\n",
    "\n",
    "#metrics.confusion_matrix(y_true, y_pred > 0)\n"
   ]
  }
 ]
}