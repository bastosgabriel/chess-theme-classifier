{
 "metadata": {
  "language_info": {
   "codemirror_mode": {
    "name": "ipython",
    "version": 3
   },
   "file_extension": ".py",
   "mimetype": "text/x-python",
   "name": "python",
   "nbconvert_exporter": "python",
   "pygments_lexer": "ipython3",
   "version": "3.7.10"
  },
  "orig_nbformat": 2,
  "kernelspec": {
   "name": "python3710jvsc74a57bd093f4f5b237b8f8df832884c2e2dec106b12a1aa580993933cf7074bb792b7374",
   "display_name": "Python 3.7.10 64-bit ('chessenv': conda)"
  },
  "metadata": {
   "interpreter": {
    "hash": "93f4f5b237b8f8df832884c2e2dec106b12a1aa580993933cf7074bb792b7374"
   }
  }
 },
 "nbformat": 4,
 "nbformat_minor": 2,
 "cells": [
  {
   "cell_type": "code",
   "execution_count": 19,
   "metadata": {},
   "outputs": [],
   "source": [
    "import numpy as np\n",
    "import pandas as pd\n",
    "import seaborn as sns\n",
    "import matplotlib.pyplot as plt\n",
    "import time\n",
    "import torch\n",
    "from tqdm import tqdm"
   ]
  },
  {
   "cell_type": "code",
   "execution_count": 20,
   "metadata": {},
   "outputs": [
    {
     "output_type": "stream",
     "name": "stdout",
     "text": [
      "exec time: 6.9935s\n"
     ]
    }
   ],
   "source": [
    "start = time.time()\n",
    "df = pd.read_csv('cleaned_puzzle_batches/cleaned_train_batch_1.csv')\n",
    "\n",
    "output_df = df.filter(like='theme')\n",
    "input_cols = [col_name for col_name in df.columns if not col_name.startswith('theme')]\n",
    "input_df = df.filter(items=input_cols)\n",
    "\n",
    "corr_df = output_df.apply(lambda x: input_df.corrwith(x))\n",
    "\n",
    "end = time.time()\n",
    "duration = end - start\n",
    "print(\"exec time: %.4fs\" % duration)"
   ]
  },
  {
   "cell_type": "code",
   "execution_count": 21,
   "metadata": {},
   "outputs": [
    {
     "output_type": "execute_result",
     "data": {
      "text/plain": [
       "True"
      ]
     },
     "metadata": {},
     "execution_count": 21
    }
   ],
   "source": [
    "torch.cuda.is_available()"
   ]
  },
  {
   "cell_type": "code",
   "execution_count": 22,
   "metadata": {},
   "outputs": [],
   "source": [
    "class ChessData(torch.utils.data.Dataset):\n",
    "    def __init__(self, path):\n",
    "        self.df = pd.read_csv(path)\n",
    "\n",
    "    def __len__(self):\n",
    "        return len(self.df)\n",
    "\n",
    "    def __getitem__(self, idx):\n",
    "        row = df.iloc[idx]\n",
    "\n",
    "        inputs = row[:321].values.astype(np.float32)\n",
    "        outputs = row[321:].values.astype(np.float32)\n",
    "\n",
    "        return {'board': inputs, 'themes': outputs}\n"
   ]
  },
  {
   "cell_type": "code",
   "execution_count": 23,
   "metadata": {},
   "outputs": [
    {
     "output_type": "stream",
     "name": "stdout",
     "text": [
      "<torch.utils.data.dataloader.DataLoader object at 0x7f50b037a290>\n"
     ]
    }
   ],
   "source": [
    "from torch.utils.data import DataLoader\n",
    "\n",
    "chess_data_set = ChessData('cleaned_puzzle_batches/cleaned_train_batch_1.csv')\n",
    "\n",
    "train_dataloader = DataLoader(chess_data_set, batch_size=64, shuffle=True)\n",
    "print(train_dataloader)\n",
    "\n",
    "# Display image and label.\n",
    "batch = next(iter(train_dataloader))\n",
    "#print(f\"batch['board']: {batch['board']}\")\n",
    "#print(f\"batch['themes']: {batch['themes']}\")\n",
    "#print(f\"batch['themes']: {batch['themes'].shape}\")"
   ]
  },
  {
   "cell_type": "code",
   "execution_count": 24,
   "metadata": {},
   "outputs": [],
   "source": [
    "import torch.nn as nn\n",
    "\n",
    "net = nn.Sequential(nn.Linear(321, 27))\n"
   ]
  },
  {
   "cell_type": "code",
   "execution_count": 25,
   "metadata": {},
   "outputs": [],
   "source": [
    "optim = torch.optim.Adam(net.parameters(), lr=1e-3)\n",
    "\n",
    "loss_fn = nn.BCEWithLogitsLoss()"
   ]
  },
  {
   "cell_type": "code",
   "execution_count": null,
   "metadata": {},
   "outputs": [],
   "source": [
    "net = net.cuda()\n",
    "\n",
    "for epoch in range(1, 101):\n",
    "    for batch in tqdm(train_dataloader):\n",
    "        X = batch['board'].cuda()\n",
    "\n",
    "        pred = net(X)\n",
    "        loss = loss_fn(pred, batch['themes'].cuda())\n",
    "\n",
    "        optim.zero_grad()\n",
    "        loss.backward()\n",
    "\n",
    "        optim.step()\n",
    "\n"
   ]
  },
  {
   "cell_type": "code",
   "execution_count": null,
   "metadata": {},
   "outputs": [],
   "source": []
  }
 ]
}