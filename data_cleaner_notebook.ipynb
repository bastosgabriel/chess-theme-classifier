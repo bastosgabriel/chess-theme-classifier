{
 "metadata": {
  "language_info": {
   "codemirror_mode": {
    "name": "ipython",
    "version": 3
   },
   "file_extension": ".py",
   "mimetype": "text/x-python",
   "name": "python",
   "nbconvert_exporter": "python",
   "pygments_lexer": "ipython3",
   "version": "3.7.10"
  },
  "orig_nbformat": 2,
  "kernelspec": {
   "name": "python3710jvsc74a57bd093f4f5b237b8f8df832884c2e2dec106b12a1aa580993933cf7074bb792b7374",
   "display_name": "Python 3.7.10 64-bit ('chessenv': conda)"
  },
  "metadata": {
   "interpreter": {
    "hash": "93f4f5b237b8f8df832884c2e2dec106b12a1aa580993933cf7074bb792b7374"
   }
  }
 },
 "nbformat": 4,
 "nbformat_minor": 2,
 "cells": [
  {
   "cell_type": "code",
   "execution_count": 25,
   "metadata": {},
   "outputs": [],
   "source": [
    "import pandas as pd\n",
    "import numpy as np\n",
    "import time\n",
    "\n",
    "df = pd.read_csv('puzzle_batches/small_batch.csv')\n",
    "df = df[['FEN','Moves','Themes']].dropna()"
   ]
  },
  {
   "cell_type": "code",
   "execution_count": 26,
   "metadata": {
    "tags": []
   },
   "outputs": [],
   "source": [
    "# Execute computer move\n",
    "\n",
    "import chess\n",
    "\n",
    "for row in df.itertuples():\n",
    "    board = chess.Board(row.FEN)\n",
    "\n",
    "    computer_move = row.Moves.split()[0]\n",
    "    board.push_uci(computer_move)\n",
    "    df.loc[row.Index].FEN = board.fen()\n",
    "\n",
    "df.drop(['Moves'], inplace=True, axis=1)"
   ]
  },
  {
   "cell_type": "code",
   "execution_count": 27,
   "metadata": {},
   "outputs": [
    {
     "output_type": "stream",
     "name": "stdout",
     "text": [
      "0.009802103042602539\n"
     ]
    }
   ],
   "source": [
    "# Create valid_themes columns\n",
    "\n",
    "start = time.time()\n",
    "\n",
    "used_themes = {\n",
    "    \"advancedPawn\", \"advantage\", \"bishopEndgame\", \"capturingDefender\", \"crushing\", \"equality\", \"kingsideAttack\", \"defensiveMove\", \"endgame\",\n",
    "    \"exposedKing\", \"fork\", \"hangingPiece\", \"interference\", \"knightEndgame\", \"middlegame\", \"opening\", \"pawnEndgame\", \"pin\", \"promotion\", \"queenEndgame\",\n",
    "    \"queenRookEndgame\", \"queensideAttack\", \"rookEndgame\", \"skewer\", \"trappedPiece\", \"underPromotion\", \"xRayAttack\", \"zugzwang\",\n",
    "}\n",
    "\n",
    "df['valid_themes'] = \"\"\n",
    "for row in df.itertuples():\n",
    "    row_themes = set(row.Themes.split())\n",
    "    valid_themes = row_themes.intersection(used_themes)\n",
    "    #print(f\"valid themes {valid_themes}\")\n",
    "\n",
    "    df.loc[row.Index].valid_themes = \" \".join(valid_themes)\n",
    "\n",
    "themes_dummies = df.valid_themes.str.get_dummies(' ').add_prefix('theme_')\n",
    "df = pd.concat([df, themes_dummies], axis=1)\n",
    "\n",
    "df.drop(['Themes', 'valid_themes'], inplace=True, axis=1)\n",
    "end = time.time()\n",
    "print(end - start)"
   ]
  },
  {
   "cell_type": "code",
   "execution_count": 28,
   "metadata": {},
   "outputs": [
    {
     "output_type": "stream",
     "name": "stdout",
     "text": [
      "0.09100842475891113\n"
     ]
    }
   ],
   "source": [
    "# Create board positions with piece vectors\n",
    "start = time.time()\n",
    "\n",
    "squares = chess.SQUARE_NAMES\n",
    "\n",
    "# pawn, knight, bishop, rook, king\n",
    "# queen will be encoded as bishop + rook\n",
    "pieces = ['p', 'n', 'b', 'r', 'k'] \n",
    "for s in squares:\n",
    "    for p in pieces:\n",
    "        df[f\"{s}.{p}\"] = 0\n",
    "\n",
    "end = time.time()\n",
    "print(end - start)"
   ]
  },
  {
   "cell_type": "code",
   "execution_count": 29,
   "metadata": {},
   "outputs": [
    {
     "output_type": "stream",
     "name": "stdout",
     "text": [
      "0.027904033660888672\n"
     ]
    }
   ],
   "source": [
    "# Transform FEN into board positions and pieces\n",
    "start = time.time()\n",
    "\n",
    "for row in df.itertuples():\n",
    "    board = chess.Board(row.FEN)\n",
    "\n",
    "    # color -> false = preto / true = branco\n",
    "    for pos, piece in board.piece_map().items():\n",
    "        square_name = chess.square_name(pos)\n",
    "        piece_name = piece.symbol().lower()\n",
    "\n",
    "        if piece_name == \"q\":\n",
    "            df.at[row.Index, f\"{square_name}.r\"] = 1 if piece.color else -1\n",
    "            df.at[row.Index, f\"{square_name}.b\"] = 1 if piece.color else -1\n",
    "        else:\n",
    "            df.at[row.Index, f\"{square_name}.{piece_name}\"] = 1 if piece.color else -1\n",
    "\n",
    "end = time.time()\n",
    "print(end - start)"
   ]
  },
  {
   "cell_type": "code",
   "execution_count": 30,
   "metadata": {},
   "outputs": [
    {
     "output_type": "stream",
     "name": "stdout",
     "text": [
      "0\n0\nr . . q . . . k\np p p . . . p B\n. . . p . . . B\n. . . . . . . .\n. . . b . . . .\n. . N . . P . b\nP n Q . . P . .\nR . . . R . K .\n1\n0\n. . . . . . . .\np . . n . . p k\n. . . p . p . p\n. . . . p P . B\n. . P p P . . .\nP . . P . Q R P\n. r . q . . P K\n. . . . . . . .\n1\n0\nr . r . . . k .\np . . . . p p p\n. . . . p . . .\n. . . . . . . .\n. . . P . . . .\n. . . . P . . .\nq P R . . P P P\n. . Q . . . K .\n1\n0\n. r . . . . k .\n. q . . . p . .\n. p . P . . p .\np . p Q . . . p\n. . P . . . . P\n. R . . . . P .\n. . . . . P K .\n. . . . . . . .\n1\n0\n. . . . . . . .\nr . . . k . . p\n. . p . p . p .\n. r P . B . . .\np . . . . R . .\n. . . . P . P P\nP P . . . . . .\n. . . . K . . .\n0\n0\n. . k . . . r .\np . . . . . . .\n. . P . . . . .\n. . . p . b . p\n. . . B . . P q\n. P . . P . . P\nP . . . . . . Q\n. . R . . K . .\n1\n0\n. . . . . . k .\n. . . . . . p .\n. R . . . . P .\n. . . . r . . .\n. . b . . . . .\n. . . . . . . .\nP . . . . K . .\n. . . . . . . .\n1\n0\nr . . . r . k .\n. . . . . p p p\n. . . . . . . .\n. q . p . Q . .\np . p . n . . .\n. . P . . . . .\nP P . . R P P P\n. . B . R . K .\n0.03099346160888672\n"
     ]
    }
   ],
   "source": [
    "# Reorder columns\n",
    "start = time.time()\n",
    "\n",
    "for row in df.itertuples():\n",
    "    board = chess.Board(row.FEN)\n",
    "    df.at[row.Index, \"color_to_play\"] = int(board.turn) or -1\n",
    "    df.at[row.Index, \"castling_rights\"] = int(board.castling_rights)\n",
    "\n",
    "\n",
    "df.drop(['FEN'], inplace=True, axis=1)\n",
    "end = time.time()\n",
    "print(end - start)"
   ]
  },
  {
   "cell_type": "code",
   "execution_count": null,
   "metadata": {},
   "outputs": [],
   "source": []
  }
 ]
}