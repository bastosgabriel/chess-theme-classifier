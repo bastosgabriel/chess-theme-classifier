{
 "metadata": {
  "language_info": {
   "codemirror_mode": {
    "name": "ipython",
    "version": 3
   },
   "file_extension": ".py",
   "mimetype": "text/x-python",
   "name": "python",
   "nbconvert_exporter": "python",
   "pygments_lexer": "ipython3",
   "version": "3.7.10"
  },
  "orig_nbformat": 2,
  "kernelspec": {
   "name": "python3710jvsc74a57bd093f4f5b237b8f8df832884c2e2dec106b12a1aa580993933cf7074bb792b7374",
   "display_name": "Python 3.7.10 64-bit ('chessenv': conda)"
  },
  "metadata": {
   "interpreter": {
    "hash": "93f4f5b237b8f8df832884c2e2dec106b12a1aa580993933cf7074bb792b7374"
   }
  }
 },
 "nbformat": 4,
 "nbformat_minor": 2,
 "cells": [
  {
   "cell_type": "code",
   "execution_count": 1,
   "metadata": {},
   "outputs": [],
   "source": [
    "import pandas as pd\n",
    "import numpy as np\n",
    "\n",
    "data = pd.read_csv('puzzle_batches/lichess_db_puzzle1.csv')"
   ]
  },
  {
   "cell_type": "code",
   "execution_count": 9,
   "metadata": {},
   "outputs": [
    {
     "output_type": "stream",
     "name": "stdout",
     "text": [
      "{'pawnEndgame', 'hookMate', 'interference', 'bishopEndgame', 'veryLong', 'crushing', 'oneMove', 'mateIn5', 'zugzwang', 'mate', 'sacrifice', 'discoveredAttack', 'mateIn4', 'master', 'xRayAttack', 'trappedPiece', 'advancedPawn', 'mateIn3', 'hangingPiece', 'intermezzo', 'short', 'smotheredMate', 'arabianMate', 'superGM', 'queenRookEndgame', 'mateIn1', 'enPassant', 'mateIn2', 'deflection', 'rookEndgame', 'defensiveMove', 'exposedKing', 'endgame', 'doubleBishopMate', 'anastasiaMate', 'opening', 'equality', 'clearance', 'dovetailMate', 'doubleCheck', 'quietMove', 'knightEndgame', 'fork', 'advantage', 'queensideAttack', 'long', 'attackingF2F7', 'backRankMate', 'pin', 'skewer', 'promotion', 'queenEndgame', 'attraction', 'capturingDefender', 'masterVsMaster', 'middlegame', 'kingsideAttack'}\n"
     ]
    }
   ],
   "source": [
    "#pd.concat([data, data['Themes'].str.split(' ', expand=True)], axis=1)\n",
    "unique_themes = set(' '.join([row for row in data['Themes']]).split())\n",
    "print(unique_themes)\n",
    "for theme in unique_themes:\n",
    "    data[theme] = False\n",
    "for row in data:\n",
    "    for theme in data['Themes']:\n",
    "        print(data['Themes'])\n",
    "        data[theme] = True\n",
    "    "
   ]
  },
  {
   "cell_type": "code",
   "execution_count": null,
   "metadata": {},
   "outputs": [],
   "source": []
  }
 ]
}