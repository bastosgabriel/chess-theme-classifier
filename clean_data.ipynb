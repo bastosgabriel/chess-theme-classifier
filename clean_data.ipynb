{
 "metadata": {
  "language_info": {
   "codemirror_mode": {
    "name": "ipython",
    "version": 3
   },
   "file_extension": ".py",
   "mimetype": "text/x-python",
   "name": "python",
   "nbconvert_exporter": "python",
   "pygments_lexer": "ipython3",
   "version": "3.7.10"
  },
  "orig_nbformat": 2,
  "kernelspec": {
   "name": "python3710jvsc74a57bd093f4f5b237b8f8df832884c2e2dec106b12a1aa580993933cf7074bb792b7374",
   "display_name": "Python 3.7.10 64-bit ('chessenv': conda)"
  },
  "metadata": {
   "interpreter": {
    "hash": "93f4f5b237b8f8df832884c2e2dec106b12a1aa580993933cf7074bb792b7374"
   }
  }
 },
 "nbformat": 4,
 "nbformat_minor": 2,
 "cells": [
  {
   "cell_type": "code",
   "execution_count": 228,
   "metadata": {},
   "outputs": [],
   "source": [
    "import pandas as pd\n",
    "import numpy as np\n",
    "import time\n",
    "\n",
    "df = pd.read_csv('puzzle_batches/small_batch.csv')\n",
    "df = df[['FEN','Moves','Themes']].dropna()"
   ]
  },
  {
   "cell_type": "code",
   "execution_count": 229,
   "metadata": {
    "tags": []
   },
   "outputs": [],
   "source": [
    "# Execute computer move\n",
    "\n",
    "import chess\n",
    "\n",
    "for row in df.itertuples():\n",
    "    board = chess.Board(row.FEN)\n",
    "\n",
    "    computer_move = row.Moves.split()[0]\n",
    "    board.push_uci(computer_move)\n",
    "    df.loc[row.Index].FEN = board.fen()\n",
    "\n",
    "df.drop(['Moves'], inplace=True, axis=1)"
   ]
  },
  {
   "cell_type": "code",
   "execution_count": 230,
   "metadata": {},
   "outputs": [
    {
     "output_type": "stream",
     "name": "stdout",
     "text": [
      "0.008424758911132812\n"
     ]
    }
   ],
   "source": [
    "# Create valid_themes columns\n",
    "\n",
    "start = time.time()\n",
    "\n",
    "used_themes = {\n",
    "    \"advancedPawn\", \"advantage\", \"bishopEndgame\", \"capturingDefender\", \"crushing\", \"equality\", \"kingsideAttack\", \"defensiveMove\", \"endgame\",\n",
    "    \"exposedKing\", \"fork\", \"hangingPiece\", \"interference\", \"knightEndgame\", \"middlegame\", \"opening\", \"pawnEndgame\", \"pin\", \"promotion\", \"queenEndgame\",\n",
    "    \"queenRookEndgame\", \"queensideAttack\", \"rookEndgame\", \"skewer\", \"trappedPiece\", \"underPromotion\", \"xRayAttack\", \"zugzwang\",\n",
    "}\n",
    "\n",
    "df['valid_themes'] = \"\"\n",
    "for row in df.itertuples():\n",
    "    row_themes = set(row.Themes.split())\n",
    "    valid_themes = row_themes.intersection(used_themes)\n",
    "    #print(f\"valid themes {valid_themes}\")\n",
    "\n",
    "    df.loc[row.Index].valid_themes = \" \".join(valid_themes)\n",
    "\n",
    "themes_dummies = df.valid_themes.str.get_dummies(' ').add_prefix('theme_')\n",
    "df = pd.concat([df, themes_dummies], axis=1)\n",
    "\n",
    "df.drop(['Themes', 'valid_themes'], inplace=True, axis=1)\n",
    "end = time.time()\n",
    "print(end - start)"
   ]
  },
  {
   "cell_type": "code",
   "execution_count": 231,
   "metadata": {},
   "outputs": [
    {
     "output_type": "stream",
     "name": "stdout",
     "text": [
      "0.11015105247497559\n"
     ]
    }
   ],
   "source": [
    "# Create board positions with piece vectors\n",
    "start = time.time()\n",
    "\n",
    "squares = chess.SQUARE_NAMES\n",
    "\n",
    "# pawn, knight, bishop, rook, king\n",
    "# queen will be encoded as bishop + rook\n",
    "pieces = ['p', 'n', 'b', 'r', 'k'] \n",
    "for s in squares:\n",
    "    for p in pieces:\n",
    "        df[f\"{s}.{p}\"] = 0\n",
    "\n",
    "end = time.time()\n",
    "print(end - start)"
   ]
  },
  {
   "cell_type": "code",
   "execution_count": 232,
   "metadata": {},
   "outputs": [
    {
     "output_type": "stream",
     "name": "stdout",
     "text": [
      "0.02552509307861328\n"
     ]
    }
   ],
   "source": [
    "# Transform FEN into board positions and pieces\n",
    "start = time.time()\n",
    "\n",
    "for row in df.itertuples():\n",
    "    board = chess.Board(row.FEN)\n",
    "\n",
    "    # color -> false = preto / true = branco\n",
    "    for pos, piece in board.piece_map().items():\n",
    "        square_name = chess.square_name(pos)\n",
    "        piece_name = piece.symbol().lower()\n",
    "\n",
    "        if piece_name == \"q\":\n",
    "            df.at[row.Index, f\"{square_name}.r\"] = 1 if piece.color else -1\n",
    "            df.at[row.Index, f\"{square_name}.b\"] = 1 if piece.color else -1\n",
    "        else:\n",
    "            df.at[row.Index, f\"{square_name}.{piece_name}\"] = 1 if piece.color else -1\n",
    "\n",
    "end = time.time()\n",
    "print(end - start)"
   ]
  },
  {
   "cell_type": "code",
   "execution_count": 233,
   "metadata": {},
   "outputs": [
    {
     "output_type": "stream",
     "name": "stdout",
     "text": [
      "                                                 FEN  theme_advantage  \\\n0  r2q3k/ppp3pB/3p3B/8/3b4/2N2P1b/PnQ2P2/R3R1K1 b...                0   \n1  8/p2n2pk/3p1p1p/4pP1B/2PpP3/P2P1QRP/1r1q2PK/8 ...                1   \n2  r1r3k1/p4ppp/4p3/8/3P4/4P3/qPR2PPP/2Q3K1 w - -...                0   \n3  1r4k1/1q3p2/1p1P2p1/p1pQ3p/2P4P/1R4P1/5PK1/8 w...                1   \n4  8/r3k2p/2p1p1p1/1rP1B3/p4R2/4P1PP/PP6/4K3 w - ...                0   \n5  2k3r1/p7/2P5/3p1b1p/3B2Pq/1P2P2P/P6Q/2R2K2 b -...                0   \n6          6k1/6p1/1R4P1/4r3/2b5/8/P4K2/8 w - - 1 39                0   \n7  r3r1k1/5ppp/8/1q1p1Q2/p1p1n3/2P5/PP2RPPP/2B1R1...                0   \n\n   theme_crushing  theme_defensiveMove  theme_endgame  theme_hangingPiece  \\\n0               1                    0              0                   1   \n1               0                    1              1                   0   \n2               0                    0              1                   0   \n3               0                    1              1                   0   \n4               1                    0              1                   0   \n5               1                    0              1                   0   \n6               0                    0              1                   0   \n7               1                    1              0                   0   \n\n   theme_middlegame  a1.p  a1.n  a1.b  ...  g8.p  g8.n  g8.b  g8.r  g8.k  \\\n0                 1     0     0     0  ...     0     0     0     0     0   \n1                 0     0     0     0  ...     0     0     0     0     0   \n2                 0     0     0     0  ...     0     0     0     0    -1   \n3                 0     0     0     0  ...     0     0     0     0    -1   \n4                 0     0     0     0  ...     0     0     0     0     0   \n5                 0     0     0     0  ...     0     0     0    -1     0   \n6                 0     0     0     0  ...     0     0     0     0    -1   \n7                 1     0     0     0  ...     0     0     0     0    -1   \n\n   h8.p  h8.n  h8.b  h8.r  h8.k  \n0     0     0     0     0    -1  \n1     0     0     0     0     0  \n2     0     0     0     0     0  \n3     0     0     0     0     0  \n4     0     0     0     0     0  \n5     0     0     0     0     0  \n6     0     0     0     0     0  \n7     0     0     0     0     0  \n\n[8 rows x 327 columns]\n0.01116633415222168\n"
     ]
    }
   ],
   "source": [
    "# Reorder columns\n",
    "start = time.time()\n",
    "\n",
    "\n",
    "print(df)\n",
    "\n",
    "end = time.time()\n",
    "print(end - start)"
   ]
  },
  {
   "cell_type": "code",
   "execution_count": null,
   "metadata": {},
   "outputs": [],
   "source": []
  }
 ]
}