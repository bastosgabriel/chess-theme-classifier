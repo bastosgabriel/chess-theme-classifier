{
 "metadata": {
  "language_info": {
   "codemirror_mode": {
    "name": "ipython",
    "version": 3
   },
   "file_extension": ".py",
   "mimetype": "text/x-python",
   "name": "python",
   "nbconvert_exporter": "python",
   "pygments_lexer": "ipython3",
   "version": "3.7.10"
  },
  "orig_nbformat": 2,
  "kernelspec": {
   "name": "python3710jvsc74a57bd093f4f5b237b8f8df832884c2e2dec106b12a1aa580993933cf7074bb792b7374",
   "display_name": "Python 3.7.10 64-bit ('chessenv': conda)"
  },
  "metadata": {
   "interpreter": {
    "hash": "93f4f5b237b8f8df832884c2e2dec106b12a1aa580993933cf7074bb792b7374"
   }
  }
 },
 "nbformat": 4,
 "nbformat_minor": 2,
 "cells": [
  {
   "cell_type": "code",
   "execution_count": 94,
   "metadata": {},
   "outputs": [],
   "source": [
    "import pandas as pd\n",
    "import numpy as np\n",
    "import time\n",
    "\n",
    "df = pd.read_csv('puzzle_batches/small_batch.csv')\n",
    "df = df[['FEN','Moves','Themes']].dropna()"
   ]
  },
  {
   "cell_type": "code",
   "execution_count": 95,
   "metadata": {
    "tags": []
   },
   "outputs": [],
   "source": [
    "# Execute computer move\n",
    "\n",
    "import chess\n",
    "\n",
    "for row in df.itertuples():\n",
    "    board = chess.Board(row.FEN)\n",
    "\n",
    "    computer_move = row.Moves.split()[0]\n",
    "    board.push_uci(computer_move)\n",
    "    df.loc[row.Index].FEN = board.fen()\n",
    "\n",
    "df.drop(['Moves'], inplace=True, axis=1)"
   ]
  },
  {
   "cell_type": "code",
   "execution_count": 96,
   "metadata": {},
   "outputs": [
    {
     "output_type": "stream",
     "name": "stdout",
     "text": [
      "0.005467653274536133\n"
     ]
    }
   ],
   "source": [
    "# Create valid_themes columns\n",
    "\n",
    "start = time.time()\n",
    "\n",
    "used_themes = {\n",
    "    \"advancedPawn\", \"advantage\", \"bishopEndgame\", \"capturingDefender\", \"crushing\", \"equality\", \"kingsideAttack\", \"defensiveMove\", \"endgame\",\n",
    "    \"exposedKing\", \"fork\", \"hangingPiece\", \"interference\", \"knightEndgame\", \"middlegame\", \"opening\", \"pawnEndgame\", \"pin\", \"promotion\", \"queenEndgame\",\n",
    "    \"queenRookEndgame\", \"queensideAttack\", \"rookEndgame\", \"skewer\", \"trappedPiece\", \"underPromotion\", \"xRayAttack\", \"zugzwang\",\n",
    "}\n",
    "\n",
    "df['valid_themes'] = \"\"\n",
    "for row in df.itertuples():\n",
    "    row_themes = set(row.Themes.split())\n",
    "    valid_themes = row_themes.intersection(used_themes)\n",
    "    #print(f\"valid themes {valid_themes}\")\n",
    "\n",
    "    df.loc[row.Index].valid_themes = \" \".join(valid_themes)\n",
    "\n",
    "themes_dummies = df.valid_themes.str.get_dummies(' ').add_prefix('theme_')\n",
    "df = pd.concat([df, themes_dummies], axis=1)\n",
    "\n",
    "df.drop(['Themes', 'valid_themes'], inplace=True, axis=1)\n",
    "end = time.time()\n",
    "print(end - start)"
   ]
  },
  {
   "cell_type": "code",
   "execution_count": 97,
   "metadata": {},
   "outputs": [
    {
     "output_type": "stream",
     "name": "stdout",
     "text": [
      "0.05980491638183594\n"
     ]
    }
   ],
   "source": [
    "# Transform FEN into board positions and pieces\n",
    "\n",
    "start = time.time()\n",
    "\n",
    "for row in df.itertuples():\n",
    "    board = chess.Board(row.FEN)\n",
    "\n",
    "    # color -> false = preto / true = branco\n",
    "    for pos, piece in board.piece_map().items():\n",
    "        square_name = chess.square_name(pos)\n",
    "        piece_name = piece.symbol().lower()\n",
    "\n",
    "        if piece_name == \"q\":\n",
    "            df.at[row.Index, f\"{square_name}.r\"] = 1 if piece.color else -1\n",
    "            df.at[row.Index, f\"{square_name}.b\"] = 1 if piece.color else -1\n",
    "        else:\n",
    "            df.at[row.Index, f\"{square_name}.{piece_name}\"] = 1 if piece.color else -1\n",
    "\n",
    "\n",
    "end = time.time()\n",
    "print(end - start)"
   ]
  },
  {
   "cell_type": "code",
   "execution_count": null,
   "metadata": {},
   "outputs": [],
   "source": []
  }
 ]
}