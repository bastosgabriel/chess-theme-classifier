{
 "metadata": {
  "language_info": {
   "codemirror_mode": {
    "name": "ipython",
    "version": 3
   },
   "file_extension": ".py",
   "mimetype": "text/x-python",
   "name": "python",
   "nbconvert_exporter": "python",
   "pygments_lexer": "ipython3",
   "version": "3.7.10"
  },
  "orig_nbformat": 2,
  "kernelspec": {
   "name": "python3710jvsc74a57bd093f4f5b237b8f8df832884c2e2dec106b12a1aa580993933cf7074bb792b7374",
   "display_name": "Python 3.7.10 64-bit ('chessenv': conda)"
  },
  "metadata": {
   "interpreter": {
    "hash": "93f4f5b237b8f8df832884c2e2dec106b12a1aa580993933cf7074bb792b7374"
   }
  }
 },
 "nbformat": 4,
 "nbformat_minor": 2,
 "cells": [
  {
   "cell_type": "code",
   "execution_count": 1,
   "metadata": {},
   "outputs": [],
   "source": [
    "import pandas as pd\n",
    "import numpy as np\n",
    "\n",
    "data = pd.read_csv('puzzle_batches/small_batch.csv')\n",
    "data = data[['FEN','Moves','Themes']].dropna()\n",
    "#data"
   ]
  },
  {
   "cell_type": "code",
   "execution_count": 2,
   "metadata": {
    "tags": []
   },
   "outputs": [
    {
     "output_type": "stream",
     "name": "stdout",
     "text": [
      "-------------------------\n"
     ]
    }
   ],
   "source": [
    "# Execute computer move\n",
    "\n",
    "import chess\n",
    "\n",
    "#print(data['FEN'])\n",
    "print('-------------------------')\n",
    "for row in data.itertuples():\n",
    "    board = chess.Board(row.FEN)\n",
    "\n",
    "    computer_move = row.Moves.split()[0]\n",
    "    board.push_uci(computer_move)\n",
    "    data.loc[row.Index].FEN = board.fen()\n",
    "\n",
    "#print(data['FEN'])"
   ]
  },
  {
   "cell_type": "code",
   "execution_count": 14,
   "metadata": {},
   "outputs": [
    {
     "output_type": "stream",
     "name": "stdout",
     "text": [
      "valid themes {'hangingPiece', 'middlegame', 'crushing'}\nvalid themes {'advantage', 'defensiveMove', 'endgame'}\nvalid themes {'endgame'}\nvalid themes {'advantage', 'defensiveMove', 'endgame'}\nvalid themes {'endgame', 'crushing'}\nvalid themes {'endgame', 'crushing'}\nvalid themes {'endgame'}\nvalid themes {'defensiveMove', 'middlegame', 'crushing'}\n"
     ]
    }
   ],
   "source": [
    "used_themes = {\n",
    "    \"advancedPawn\", \"advantage\", \"bishopEndgame\", \"capturingDefender\", \"crushing\", \"equality\", \"kingsideAttack\", \"defensiveMove\", \"endgame\",\n",
    "    \"exposedKing\", \"fork\", \"hangingPiece\", \"interference\", \"knightEndgame\", \"middlegame\", \"opening\", \"pawnEndgame\", \"pin\", \"promotion\", \"queenEndgame\",\n",
    "    \"queenRookEndgame\", \"queensideAttack\", \"rookEndgame\", \"skewer\", \"trappedPiece\", \"underPromotion\", \"xRayAttack\", \"zugzwang\",\n",
    "}\n",
    "\n",
    "data['valid_themes'] = \"\"\n",
    "for row in data.itertuples():\n",
    "    row_themes = set(row.Themes.split())\n",
    "    valid_themes = row_themes.intersection(used_themes)\n",
    "    print(f\"valid themes {valid_themes}\")\n",
    "\n",
    "    data.loc[row.Index].valid_themes = \" \".join(valid_themes)\n",
    "\n",
    "    pd.get_dummies(data['valid_themes'], prefix='theme')"
   ]
  },
  {
   "cell_type": "code",
   "execution_count": 77,
   "metadata": {},
   "outputs": [
    {
     "output_type": "stream",
     "name": "stderr",
     "text": [
      "/home/bastosgabriel/miniconda3/envs/chessenv/lib/python3.7/site-packages/ipykernel_launcher.py:4: SettingWithCopyWarning: \nA value is trying to be set on a copy of a slice from a DataFrame\n\nSee the caveats in the documentation: https://pandas.pydata.org/pandas-docs/stable/user_guide/indexing.html#returning-a-view-versus-a-copy\n  after removing the cwd from sys.path.\n"
     ]
    }
   ],
   "source": [
    "for row_index, row_themes in data['Themes'].iteritems():\n",
    "    row_themes_list = row_themes.split(' ')\n",
    "    for theme in row_themes_list:\n",
    "        data[theme][row_index] = 1"
   ]
  },
  {
   "cell_type": "code",
   "execution_count": 78,
   "metadata": {
    "tags": []
   },
   "outputs": [
    {
     "output_type": "error",
     "ename": "KeyError",
     "evalue": "\"['Rating' 'RatingDeviation' 'Popularity' 'NbPlays'] not found in axis\"",
     "traceback": [
      "\u001b[0;31m---------------------------------------------------------------------------\u001b[0m",
      "\u001b[0;31mKeyError\u001b[0m                                  Traceback (most recent call last)",
      "\u001b[0;32m<ipython-input-78-116f1cc74150>\u001b[0m in \u001b[0;36m<module>\u001b[0;34m\u001b[0m\n\u001b[0;32m----> 1\u001b[0;31m \u001b[0mdata\u001b[0m\u001b[0;34m.\u001b[0m\u001b[0mdrop\u001b[0m\u001b[0;34m(\u001b[0m\u001b[0;34m[\u001b[0m\u001b[0;34m'Themes'\u001b[0m\u001b[0;34m,\u001b[0m \u001b[0;34m'Moves'\u001b[0m\u001b[0;34m,\u001b[0m \u001b[0;34m'Rating'\u001b[0m\u001b[0;34m,\u001b[0m \u001b[0;34m'RatingDeviation'\u001b[0m\u001b[0;34m,\u001b[0m \u001b[0;34m'Popularity'\u001b[0m\u001b[0;34m,\u001b[0m \u001b[0;34m'NbPlays'\u001b[0m\u001b[0;34m]\u001b[0m\u001b[0;34m,\u001b[0m \u001b[0minplace\u001b[0m\u001b[0;34m=\u001b[0m\u001b[0;32mTrue\u001b[0m\u001b[0;34m,\u001b[0m \u001b[0maxis\u001b[0m\u001b[0;34m=\u001b[0m\u001b[0;36m1\u001b[0m\u001b[0;34m)\u001b[0m\u001b[0;34m\u001b[0m\u001b[0;34m\u001b[0m\u001b[0m\n\u001b[0m",
      "\u001b[0;32m~/miniconda3/envs/chessenv/lib/python3.7/site-packages/pandas/core/frame.py\u001b[0m in \u001b[0;36mdrop\u001b[0;34m(self, labels, axis, index, columns, level, inplace, errors)\u001b[0m\n\u001b[1;32m   4313\u001b[0m             \u001b[0mlevel\u001b[0m\u001b[0;34m=\u001b[0m\u001b[0mlevel\u001b[0m\u001b[0;34m,\u001b[0m\u001b[0;34m\u001b[0m\u001b[0;34m\u001b[0m\u001b[0m\n\u001b[1;32m   4314\u001b[0m             \u001b[0minplace\u001b[0m\u001b[0;34m=\u001b[0m\u001b[0minplace\u001b[0m\u001b[0;34m,\u001b[0m\u001b[0;34m\u001b[0m\u001b[0;34m\u001b[0m\u001b[0m\n\u001b[0;32m-> 4315\u001b[0;31m             \u001b[0merrors\u001b[0m\u001b[0;34m=\u001b[0m\u001b[0merrors\u001b[0m\u001b[0;34m,\u001b[0m\u001b[0;34m\u001b[0m\u001b[0;34m\u001b[0m\u001b[0m\n\u001b[0m\u001b[1;32m   4316\u001b[0m         )\n\u001b[1;32m   4317\u001b[0m \u001b[0;34m\u001b[0m\u001b[0m\n",
      "\u001b[0;32m~/miniconda3/envs/chessenv/lib/python3.7/site-packages/pandas/core/generic.py\u001b[0m in \u001b[0;36mdrop\u001b[0;34m(self, labels, axis, index, columns, level, inplace, errors)\u001b[0m\n\u001b[1;32m   4151\u001b[0m         \u001b[0;32mfor\u001b[0m \u001b[0maxis\u001b[0m\u001b[0;34m,\u001b[0m \u001b[0mlabels\u001b[0m \u001b[0;32min\u001b[0m \u001b[0maxes\u001b[0m\u001b[0;34m.\u001b[0m\u001b[0mitems\u001b[0m\u001b[0;34m(\u001b[0m\u001b[0;34m)\u001b[0m\u001b[0;34m:\u001b[0m\u001b[0;34m\u001b[0m\u001b[0;34m\u001b[0m\u001b[0m\n\u001b[1;32m   4152\u001b[0m             \u001b[0;32mif\u001b[0m \u001b[0mlabels\u001b[0m \u001b[0;32mis\u001b[0m \u001b[0;32mnot\u001b[0m \u001b[0;32mNone\u001b[0m\u001b[0;34m:\u001b[0m\u001b[0;34m\u001b[0m\u001b[0;34m\u001b[0m\u001b[0m\n\u001b[0;32m-> 4153\u001b[0;31m                 \u001b[0mobj\u001b[0m \u001b[0;34m=\u001b[0m \u001b[0mobj\u001b[0m\u001b[0;34m.\u001b[0m\u001b[0m_drop_axis\u001b[0m\u001b[0;34m(\u001b[0m\u001b[0mlabels\u001b[0m\u001b[0;34m,\u001b[0m \u001b[0maxis\u001b[0m\u001b[0;34m,\u001b[0m \u001b[0mlevel\u001b[0m\u001b[0;34m=\u001b[0m\u001b[0mlevel\u001b[0m\u001b[0;34m,\u001b[0m \u001b[0merrors\u001b[0m\u001b[0;34m=\u001b[0m\u001b[0merrors\u001b[0m\u001b[0;34m)\u001b[0m\u001b[0;34m\u001b[0m\u001b[0;34m\u001b[0m\u001b[0m\n\u001b[0m\u001b[1;32m   4154\u001b[0m \u001b[0;34m\u001b[0m\u001b[0m\n\u001b[1;32m   4155\u001b[0m         \u001b[0;32mif\u001b[0m \u001b[0minplace\u001b[0m\u001b[0;34m:\u001b[0m\u001b[0;34m\u001b[0m\u001b[0;34m\u001b[0m\u001b[0m\n",
      "\u001b[0;32m~/miniconda3/envs/chessenv/lib/python3.7/site-packages/pandas/core/generic.py\u001b[0m in \u001b[0;36m_drop_axis\u001b[0;34m(self, labels, axis, level, errors)\u001b[0m\n\u001b[1;32m   4186\u001b[0m                 \u001b[0mnew_axis\u001b[0m \u001b[0;34m=\u001b[0m \u001b[0maxis\u001b[0m\u001b[0;34m.\u001b[0m\u001b[0mdrop\u001b[0m\u001b[0;34m(\u001b[0m\u001b[0mlabels\u001b[0m\u001b[0;34m,\u001b[0m \u001b[0mlevel\u001b[0m\u001b[0;34m=\u001b[0m\u001b[0mlevel\u001b[0m\u001b[0;34m,\u001b[0m \u001b[0merrors\u001b[0m\u001b[0;34m=\u001b[0m\u001b[0merrors\u001b[0m\u001b[0;34m)\u001b[0m\u001b[0;34m\u001b[0m\u001b[0;34m\u001b[0m\u001b[0m\n\u001b[1;32m   4187\u001b[0m             \u001b[0;32melse\u001b[0m\u001b[0;34m:\u001b[0m\u001b[0;34m\u001b[0m\u001b[0;34m\u001b[0m\u001b[0m\n\u001b[0;32m-> 4188\u001b[0;31m                 \u001b[0mnew_axis\u001b[0m \u001b[0;34m=\u001b[0m \u001b[0maxis\u001b[0m\u001b[0;34m.\u001b[0m\u001b[0mdrop\u001b[0m\u001b[0;34m(\u001b[0m\u001b[0mlabels\u001b[0m\u001b[0;34m,\u001b[0m \u001b[0merrors\u001b[0m\u001b[0;34m=\u001b[0m\u001b[0merrors\u001b[0m\u001b[0;34m)\u001b[0m\u001b[0;34m\u001b[0m\u001b[0;34m\u001b[0m\u001b[0m\n\u001b[0m\u001b[1;32m   4189\u001b[0m             \u001b[0mresult\u001b[0m \u001b[0;34m=\u001b[0m \u001b[0mself\u001b[0m\u001b[0;34m.\u001b[0m\u001b[0mreindex\u001b[0m\u001b[0;34m(\u001b[0m\u001b[0;34m**\u001b[0m\u001b[0;34m{\u001b[0m\u001b[0maxis_name\u001b[0m\u001b[0;34m:\u001b[0m \u001b[0mnew_axis\u001b[0m\u001b[0;34m}\u001b[0m\u001b[0;34m)\u001b[0m\u001b[0;34m\u001b[0m\u001b[0;34m\u001b[0m\u001b[0m\n\u001b[1;32m   4190\u001b[0m \u001b[0;34m\u001b[0m\u001b[0m\n",
      "\u001b[0;32m~/miniconda3/envs/chessenv/lib/python3.7/site-packages/pandas/core/indexes/base.py\u001b[0m in \u001b[0;36mdrop\u001b[0;34m(self, labels, errors)\u001b[0m\n\u001b[1;32m   5589\u001b[0m         \u001b[0;32mif\u001b[0m \u001b[0mmask\u001b[0m\u001b[0;34m.\u001b[0m\u001b[0many\u001b[0m\u001b[0;34m(\u001b[0m\u001b[0;34m)\u001b[0m\u001b[0;34m:\u001b[0m\u001b[0;34m\u001b[0m\u001b[0;34m\u001b[0m\u001b[0m\n\u001b[1;32m   5590\u001b[0m             \u001b[0;32mif\u001b[0m \u001b[0merrors\u001b[0m \u001b[0;34m!=\u001b[0m \u001b[0;34m\"ignore\"\u001b[0m\u001b[0;34m:\u001b[0m\u001b[0;34m\u001b[0m\u001b[0;34m\u001b[0m\u001b[0m\n\u001b[0;32m-> 5591\u001b[0;31m                 \u001b[0;32mraise\u001b[0m \u001b[0mKeyError\u001b[0m\u001b[0;34m(\u001b[0m\u001b[0;34mf\"{labels[mask]} not found in axis\"\u001b[0m\u001b[0;34m)\u001b[0m\u001b[0;34m\u001b[0m\u001b[0;34m\u001b[0m\u001b[0m\n\u001b[0m\u001b[1;32m   5592\u001b[0m             \u001b[0mindexer\u001b[0m \u001b[0;34m=\u001b[0m \u001b[0mindexer\u001b[0m\u001b[0;34m[\u001b[0m\u001b[0;34m~\u001b[0m\u001b[0mmask\u001b[0m\u001b[0;34m]\u001b[0m\u001b[0;34m\u001b[0m\u001b[0;34m\u001b[0m\u001b[0m\n\u001b[1;32m   5593\u001b[0m         \u001b[0;32mreturn\u001b[0m \u001b[0mself\u001b[0m\u001b[0;34m.\u001b[0m\u001b[0mdelete\u001b[0m\u001b[0;34m(\u001b[0m\u001b[0mindexer\u001b[0m\u001b[0;34m)\u001b[0m\u001b[0;34m\u001b[0m\u001b[0;34m\u001b[0m\u001b[0m\n",
      "\u001b[0;31mKeyError\u001b[0m: \"['Rating' 'RatingDeviation' 'Popularity' 'NbPlays'] not found in axis\""
     ]
    }
   ],
   "source": [
    "data.drop(['Themes', 'Moves', 'Rating', 'RatingDeviation', 'Popularity', 'NbPlays'], inplace=True, axis=1)"
   ]
  },
  {
   "cell_type": "code",
   "execution_count": 23,
   "metadata": {},
   "outputs": [
    {
     "output_type": "execute_result",
     "data": {
      "text/plain": [
       "                    endgame\n",
       "pawnEndgame        0.159832\n",
       "kingsideAttack     0.231171\n",
       "crushing           0.183202\n",
       "bishopEndgame      0.102757\n",
       "mateIn2            0.069840\n",
       "long               0.046296\n",
       "clearance          0.015348\n",
       "discoveredAttack   0.046663\n",
       "queenEndgame       0.099836\n",
       "fork               0.039698\n",
       "sacrifice          0.044288\n",
       "mateIn5            0.025828\n",
       "oneMove            0.052584\n",
       "superGM            0.002394\n",
       "trappedPiece       0.054453\n",
       "smotheredMate      0.019054\n",
       "queenRookEndgame   0.076436\n",
       "endgame            1.000000\n",
       "masterVsMaster     0.003387\n",
       "arabianMate        0.034115\n",
       "opening            0.243392\n",
       "doubleBishopMate   0.029327\n",
       "doubleCheck        0.023066\n",
       "hookMate           0.029327\n",
       "mateIn1            0.005112\n",
       "capturingDefender  0.025071\n",
       "defensiveMove      0.109324\n",
       "skewer             0.093369\n",
       "interference       0.004005\n",
       "xRayAttack         0.042536\n",
       "exposedKing        0.017873\n",
       "hangingPiece       0.066872\n",
       "enPassant          0.020732\n",
       "attraction         0.016426\n",
       "master             0.059095\n",
       "equality           0.020997\n",
       "advantage          0.246334\n",
       "intermezzo         0.070257\n",
       "short              0.008901\n",
       "advancedPawn       0.141845\n",
       "veryLong           0.004768\n",
       "anastasiaMate      0.022483\n",
       "queensideAttack    0.038933\n",
       "pin                0.081942\n",
       "mate               0.073474\n",
       "mateIn3            0.022444\n",
       "mateIn4            0.000118\n",
       "backRankMate       0.117841\n",
       "middlegame         0.878859\n",
       "rookEndgame        0.217217\n",
       "zugzwang           0.076436\n",
       "quietMove          0.100327\n",
       "attackingF2F7      0.074905\n",
       "dovetailMate       0.013826\n",
       "knightEndgame      0.068332\n",
       "deflection         0.040674\n",
       "promotion          0.094242"
      ],
      "text/html": "<div>\n<style scoped>\n    .dataframe tbody tr th:only-of-type {\n        vertical-align: middle;\n    }\n\n    .dataframe tbody tr th {\n        vertical-align: top;\n    }\n\n    .dataframe thead th {\n        text-align: right;\n    }\n</style>\n<table border=\"1\" class=\"dataframe\">\n  <thead>\n    <tr style=\"text-align: right;\">\n      <th></th>\n      <th>endgame</th>\n    </tr>\n  </thead>\n  <tbody>\n    <tr>\n      <th>pawnEndgame</th>\n      <td>0.159832</td>\n    </tr>\n    <tr>\n      <th>kingsideAttack</th>\n      <td>0.231171</td>\n    </tr>\n    <tr>\n      <th>crushing</th>\n      <td>0.183202</td>\n    </tr>\n    <tr>\n      <th>bishopEndgame</th>\n      <td>0.102757</td>\n    </tr>\n    <tr>\n      <th>mateIn2</th>\n      <td>0.069840</td>\n    </tr>\n    <tr>\n      <th>long</th>\n      <td>0.046296</td>\n    </tr>\n    <tr>\n      <th>clearance</th>\n      <td>0.015348</td>\n    </tr>\n    <tr>\n      <th>discoveredAttack</th>\n      <td>0.046663</td>\n    </tr>\n    <tr>\n      <th>queenEndgame</th>\n      <td>0.099836</td>\n    </tr>\n    <tr>\n      <th>fork</th>\n      <td>0.039698</td>\n    </tr>\n    <tr>\n      <th>sacrifice</th>\n      <td>0.044288</td>\n    </tr>\n    <tr>\n      <th>mateIn5</th>\n      <td>0.025828</td>\n    </tr>\n    <tr>\n      <th>oneMove</th>\n      <td>0.052584</td>\n    </tr>\n    <tr>\n      <th>superGM</th>\n      <td>0.002394</td>\n    </tr>\n    <tr>\n      <th>trappedPiece</th>\n      <td>0.054453</td>\n    </tr>\n    <tr>\n      <th>smotheredMate</th>\n      <td>0.019054</td>\n    </tr>\n    <tr>\n      <th>queenRookEndgame</th>\n      <td>0.076436</td>\n    </tr>\n    <tr>\n      <th>endgame</th>\n      <td>1.000000</td>\n    </tr>\n    <tr>\n      <th>masterVsMaster</th>\n      <td>0.003387</td>\n    </tr>\n    <tr>\n      <th>arabianMate</th>\n      <td>0.034115</td>\n    </tr>\n    <tr>\n      <th>opening</th>\n      <td>0.243392</td>\n    </tr>\n    <tr>\n      <th>doubleBishopMate</th>\n      <td>0.029327</td>\n    </tr>\n    <tr>\n      <th>doubleCheck</th>\n      <td>0.023066</td>\n    </tr>\n    <tr>\n      <th>hookMate</th>\n      <td>0.029327</td>\n    </tr>\n    <tr>\n      <th>mateIn1</th>\n      <td>0.005112</td>\n    </tr>\n    <tr>\n      <th>capturingDefender</th>\n      <td>0.025071</td>\n    </tr>\n    <tr>\n      <th>defensiveMove</th>\n      <td>0.109324</td>\n    </tr>\n    <tr>\n      <th>skewer</th>\n      <td>0.093369</td>\n    </tr>\n    <tr>\n      <th>interference</th>\n      <td>0.004005</td>\n    </tr>\n    <tr>\n      <th>xRayAttack</th>\n      <td>0.042536</td>\n    </tr>\n    <tr>\n      <th>exposedKing</th>\n      <td>0.017873</td>\n    </tr>\n    <tr>\n      <th>hangingPiece</th>\n      <td>0.066872</td>\n    </tr>\n    <tr>\n      <th>enPassant</th>\n      <td>0.020732</td>\n    </tr>\n    <tr>\n      <th>attraction</th>\n      <td>0.016426</td>\n    </tr>\n    <tr>\n      <th>master</th>\n      <td>0.059095</td>\n    </tr>\n    <tr>\n      <th>equality</th>\n      <td>0.020997</td>\n    </tr>\n    <tr>\n      <th>advantage</th>\n      <td>0.246334</td>\n    </tr>\n    <tr>\n      <th>intermezzo</th>\n      <td>0.070257</td>\n    </tr>\n    <tr>\n      <th>short</th>\n      <td>0.008901</td>\n    </tr>\n    <tr>\n      <th>advancedPawn</th>\n      <td>0.141845</td>\n    </tr>\n    <tr>\n      <th>veryLong</th>\n      <td>0.004768</td>\n    </tr>\n    <tr>\n      <th>anastasiaMate</th>\n      <td>0.022483</td>\n    </tr>\n    <tr>\n      <th>queensideAttack</th>\n      <td>0.038933</td>\n    </tr>\n    <tr>\n      <th>pin</th>\n      <td>0.081942</td>\n    </tr>\n    <tr>\n      <th>mate</th>\n      <td>0.073474</td>\n    </tr>\n    <tr>\n      <th>mateIn3</th>\n      <td>0.022444</td>\n    </tr>\n    <tr>\n      <th>mateIn4</th>\n      <td>0.000118</td>\n    </tr>\n    <tr>\n      <th>backRankMate</th>\n      <td>0.117841</td>\n    </tr>\n    <tr>\n      <th>middlegame</th>\n      <td>0.878859</td>\n    </tr>\n    <tr>\n      <th>rookEndgame</th>\n      <td>0.217217</td>\n    </tr>\n    <tr>\n      <th>zugzwang</th>\n      <td>0.076436</td>\n    </tr>\n    <tr>\n      <th>quietMove</th>\n      <td>0.100327</td>\n    </tr>\n    <tr>\n      <th>attackingF2F7</th>\n      <td>0.074905</td>\n    </tr>\n    <tr>\n      <th>dovetailMate</th>\n      <td>0.013826</td>\n    </tr>\n    <tr>\n      <th>knightEndgame</th>\n      <td>0.068332</td>\n    </tr>\n    <tr>\n      <th>deflection</th>\n      <td>0.040674</td>\n    </tr>\n    <tr>\n      <th>promotion</th>\n      <td>0.094242</td>\n    </tr>\n  </tbody>\n</table>\n</div>"
     },
     "metadata": {},
     "execution_count": 23
    }
   ],
   "source": [
    "data.corr().abs()[['endgame']]\n",
    "\n",
    "# 2 camadas convolucionais (entrada e 1 hidden)\n",
    "# cada cnn: batch norm e leaky relu\n",
    "# 2 fully connected (1 hidden e saida)\n",
    "# hidden = leaky relu e saida = soft max"
   ]
  },
  {
   "cell_type": "code",
   "execution_count": null,
   "metadata": {},
   "outputs": [],
   "source": []
  }
 ]
}