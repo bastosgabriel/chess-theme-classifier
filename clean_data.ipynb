{
 "metadata": {
  "language_info": {
   "codemirror_mode": {
    "name": "ipython",
    "version": 3
   },
   "file_extension": ".py",
   "mimetype": "text/x-python",
   "name": "python",
   "nbconvert_exporter": "python",
   "pygments_lexer": "ipython3",
   "version": "3.7.10"
  },
  "orig_nbformat": 2,
  "kernelspec": {
   "name": "python3710jvsc74a57bd093f4f5b237b8f8df832884c2e2dec106b12a1aa580993933cf7074bb792b7374",
   "display_name": "Python 3.7.10 64-bit ('chessenv': conda)"
  },
  "metadata": {
   "interpreter": {
    "hash": "93f4f5b237b8f8df832884c2e2dec106b12a1aa580993933cf7074bb792b7374"
   }
  }
 },
 "nbformat": 4,
 "nbformat_minor": 2,
 "cells": [
  {
   "cell_type": "code",
   "execution_count": 67,
   "metadata": {},
   "outputs": [],
   "source": [
    "import pandas as pd\n",
    "import numpy as np\n",
    "\n",
    "data = pd.read_csv('puzzle_batches/small_batch.csv')\n",
    "data = data[['FEN','Moves','Rating','RatingDeviation','Popularity','NbPlays','Themes']].dropna()"
   ]
  },
  {
   "cell_type": "code",
   "execution_count": 68,
   "metadata": {},
   "outputs": [],
   "source": [
    "unique_themes = set(' '.join([row for row in data['Themes']]).split())\n",
    "for theme in unique_themes:\n",
    "    data[theme] = 0"
   ]
  },
  {
   "cell_type": "code",
   "execution_count": 69,
   "metadata": {},
   "outputs": [
    {
     "output_type": "stream",
     "name": "stderr",
     "text": [
      "/home/bastosgabriel/miniconda3/envs/chessenv/lib/python3.7/site-packages/ipykernel_launcher.py:4: SettingWithCopyWarning: \nA value is trying to be set on a copy of a slice from a DataFrame\n\nSee the caveats in the documentation: https://pandas.pydata.org/pandas-docs/stable/user_guide/indexing.html#returning-a-view-versus-a-copy\n  after removing the cwd from sys.path.\n"
     ]
    }
   ],
   "source": [
    "for row_index, row_themes in data['Themes'].iteritems():\n",
    "    row_themes_list = row_themes.split(' ')\n",
    "    for theme in row_themes_list:\n",
    "        data[theme][row_index] = 1"
   ]
  },
  {
   "cell_type": "code",
   "execution_count": 70,
   "metadata": {
    "tags": []
   },
   "outputs": [],
   "source": [
    "data.drop('Themes', inplace=True, axis=1)"
   ]
  },
  {
   "cell_type": "code",
   "execution_count": 71,
   "metadata": {},
   "outputs": [
    {
     "output_type": "execute_result",
     "data": {
      "text/plain": [
       "                  endgame\n",
       "Rating           0.197243\n",
       "RatingDeviation  0.659055\n",
       "Popularity       0.529009\n",
       "NbPlays          0.207550\n",
       "short            0.577350\n",
       "long             0.333333\n",
       "mate             0.333333\n",
       "defensiveMove    0.149071\n",
       "mateIn2          0.333333\n",
       "hangingPiece     0.654654\n",
       "advantage        0.333333\n",
       "crushing         0.577350\n",
       "middlegame       1.000000\n",
       "veryLong         1.000000\n",
       "endgame          1.000000\n",
       "backRankMate     0.218218"
      ],
      "text/html": "<div>\n<style scoped>\n    .dataframe tbody tr th:only-of-type {\n        vertical-align: middle;\n    }\n\n    .dataframe tbody tr th {\n        vertical-align: top;\n    }\n\n    .dataframe thead th {\n        text-align: right;\n    }\n</style>\n<table border=\"1\" class=\"dataframe\">\n  <thead>\n    <tr style=\"text-align: right;\">\n      <th></th>\n      <th>endgame</th>\n    </tr>\n  </thead>\n  <tbody>\n    <tr>\n      <th>Rating</th>\n      <td>0.197243</td>\n    </tr>\n    <tr>\n      <th>RatingDeviation</th>\n      <td>0.659055</td>\n    </tr>\n    <tr>\n      <th>Popularity</th>\n      <td>0.529009</td>\n    </tr>\n    <tr>\n      <th>NbPlays</th>\n      <td>0.207550</td>\n    </tr>\n    <tr>\n      <th>short</th>\n      <td>0.577350</td>\n    </tr>\n    <tr>\n      <th>long</th>\n      <td>0.333333</td>\n    </tr>\n    <tr>\n      <th>mate</th>\n      <td>0.333333</td>\n    </tr>\n    <tr>\n      <th>defensiveMove</th>\n      <td>0.149071</td>\n    </tr>\n    <tr>\n      <th>mateIn2</th>\n      <td>0.333333</td>\n    </tr>\n    <tr>\n      <th>hangingPiece</th>\n      <td>0.654654</td>\n    </tr>\n    <tr>\n      <th>advantage</th>\n      <td>0.333333</td>\n    </tr>\n    <tr>\n      <th>crushing</th>\n      <td>0.577350</td>\n    </tr>\n    <tr>\n      <th>middlegame</th>\n      <td>1.000000</td>\n    </tr>\n    <tr>\n      <th>veryLong</th>\n      <td>1.000000</td>\n    </tr>\n    <tr>\n      <th>endgame</th>\n      <td>1.000000</td>\n    </tr>\n    <tr>\n      <th>backRankMate</th>\n      <td>0.218218</td>\n    </tr>\n  </tbody>\n</table>\n</div>"
     },
     "metadata": {},
     "execution_count": 71
    }
   ],
   "source": [
    "data.corr().abs()[['endgame']]"
   ]
  },
  {
   "cell_type": "code",
   "execution_count": null,
   "metadata": {},
   "outputs": [],
   "source": []
  }
 ]
}