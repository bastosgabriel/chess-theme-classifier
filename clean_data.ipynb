{
 "metadata": {
  "language_info": {
   "codemirror_mode": {
    "name": "ipython",
    "version": 3
   },
   "file_extension": ".py",
   "mimetype": "text/x-python",
   "name": "python",
   "nbconvert_exporter": "python",
   "pygments_lexer": "ipython3",
   "version": "3.7.10"
  },
  "orig_nbformat": 2,
  "kernelspec": {
   "name": "python3710jvsc74a57bd093f4f5b237b8f8df832884c2e2dec106b12a1aa580993933cf7074bb792b7374",
   "display_name": "Python 3.7.10 64-bit ('chessenv': conda)"
  },
  "metadata": {
   "interpreter": {
    "hash": "93f4f5b237b8f8df832884c2e2dec106b12a1aa580993933cf7074bb792b7374"
   }
  }
 },
 "nbformat": 4,
 "nbformat_minor": 2,
 "cells": [
  {
   "cell_type": "code",
   "execution_count": 4,
   "metadata": {},
   "outputs": [],
   "source": [
    "import pandas as pd\n",
    "import numpy as np\n",
    "import time\n",
    "\n",
    "df = pd.read_csv('puzzle_batches/small_batch.csv')\n",
    "df = df[['FEN','Moves','Themes']].dropna()\n",
    "#df"
   ]
  },
  {
   "cell_type": "code",
   "execution_count": 5,
   "metadata": {
    "tags": []
   },
   "outputs": [],
   "source": [
    "# Execute computer move\n",
    "\n",
    "import chess\n",
    "\n",
    "#print(df['FEN'])\n",
    "for row in df.itertuples():\n",
    "    board = chess.Board(row.FEN)\n",
    "\n",
    "    computer_move = row.Moves.split()[0]\n",
    "    board.push_uci(computer_move)\n",
    "    df.loc[row.Index].FEN = board.fen()\n",
    "\n",
    "df.drop(['Moves'], inplace=True, axis=1)"
   ]
  },
  {
   "cell_type": "code",
   "execution_count": 6,
   "metadata": {},
   "outputs": [
    {
     "output_type": "error",
     "ename": "SyntaxError",
     "evalue": "invalid syntax (<ipython-input-6-5799122eff88>, line 16)",
     "traceback": [
      "\u001b[0;36m  File \u001b[0;32m\"<ipython-input-6-5799122eff88>\"\u001b[0;36m, line \u001b[0;32m16\u001b[0m\n\u001b[0;31m    valid_themes  row_themes.intersection(used_themes)\u001b[0m\n\u001b[0m                           ^\u001b[0m\n\u001b[0;31mSyntaxError\u001b[0m\u001b[0;31m:\u001b[0m invalid syntax\n"
     ]
    }
   ],
   "source": [
    "# Create valid_themes columns\n",
    "\n",
    "start = time.time()\n",
    "\n",
    "used_themes = {\n",
    "    \"advancedPawn\", \"advantage\", \"bishopEndgame\", \"capturingDefender\", \"crushing\", \"equality\", \"kingsideAttack\", \"defensiveMove\", \"endgame\",\n",
    "    \"exposedKing\", \"fork\", \"hangingPiece\", \"interference\", \"knightEndgame\", \"middlegame\", \"opening\", \"pawnEndgame\", \"pin\", \"promotion\", \"queenEndgame\",\n",
    "    \"queenRookEndgame\", \"queensideAttack\", \"rookEndgame\", \"skewer\", \"trappedPiece\", \"underPromotion\", \"xRayAttack\", \"zugzwang\",\n",
    "}\n",
    "\n",
    "df['valid_themes'] = \"\"\n",
    "for row in df.itertuples():\n",
    "    row_themes = set(row.Themes.split())\n",
    "    print(row.Themes.split())\n",
    "    print(row_themes)\n",
    "    valid_themes = row_themes.intersection(used_themes)\n",
    "    #print(f\"valid themes {valid_themes}\")\n",
    "\n",
    "    df.loc[row.Index].valid_themes = \" \".join(valid_themes)\n",
    "\n",
    "themes_dummies = df.valid_themes.str.get_dummies(' ').add_prefix('theme_')\n",
    "df = pd.concat([df, themes_dummies], axis=1)\n",
    "\n",
    "end = time.time()\n",
    "print(end - start)\n",
    "#df.drop(['Themes', 'valid_themes'], inplace=True, axis=1)"
   ]
  },
  {
   "cell_type": "code",
   "execution_count": 23,
   "metadata": {},
   "outputs": [
    {
     "output_type": "execute_result",
     "data": {
      "text/plain": [
       "                    endgame\n",
       "pawnEndgame        0.159832\n",
       "kingsideAttack     0.231171\n",
       "crushing           0.183202\n",
       "bishopEndgame      0.102757\n",
       "mateIn2            0.069840\n",
       "long               0.046296\n",
       "clearance          0.015348\n",
       "discoveredAttack   0.046663\n",
       "queenEndgame       0.099836\n",
       "fork               0.039698\n",
       "sacrifice          0.044288\n",
       "mateIn5            0.025828\n",
       "oneMove            0.052584\n",
       "superGM            0.002394\n",
       "trappedPiece       0.054453\n",
       "smotheredMate      0.019054\n",
       "queenRookEndgame   0.076436\n",
       "endgame            1.000000\n",
       "masterVsMaster     0.003387\n",
       "arabianMate        0.034115\n",
       "opening            0.243392\n",
       "doubleBishopMate   0.029327\n",
       "doubleCheck        0.023066\n",
       "hookMate           0.029327\n",
       "mateIn1            0.005112\n",
       "capturingDefender  0.025071\n",
       "defensiveMove      0.109324\n",
       "skewer             0.093369\n",
       "interference       0.004005\n",
       "xRayAttack         0.042536\n",
       "exposedKing        0.017873\n",
       "hangingPiece       0.066872\n",
       "enPassant          0.020732\n",
       "attraction         0.016426\n",
       "master             0.059095\n",
       "equality           0.020997\n",
       "advantage          0.246334\n",
       "intermezzo         0.070257\n",
       "short              0.008901\n",
       "advancedPawn       0.141845\n",
       "veryLong           0.004768\n",
       "anastasiaMate      0.022483\n",
       "queensideAttack    0.038933\n",
       "pin                0.081942\n",
       "mate               0.073474\n",
       "mateIn3            0.022444\n",
       "mateIn4            0.000118\n",
       "backRankMate       0.117841\n",
       "middlegame         0.878859\n",
       "rookEndgame        0.217217\n",
       "zugzwang           0.076436\n",
       "quietMove          0.100327\n",
       "attackingF2F7      0.074905\n",
       "dovetailMate       0.013826\n",
       "knightEndgame      0.068332\n",
       "deflection         0.040674\n",
       "promotion          0.094242"
      ],
      "text/html": "<div>\n<style scoped>\n    .dataframe tbody tr th:only-of-type {\n        vertical-align: middle;\n    }\n\n    .dataframe tbody tr th {\n        vertical-align: top;\n    }\n\n    .dataframe thead th {\n        text-align: right;\n    }\n</style>\n<table border=\"1\" class=\"dataframe\">\n  <thead>\n    <tr style=\"text-align: right;\">\n      <th></th>\n      <th>endgame</th>\n    </tr>\n  </thead>\n  <tbody>\n    <tr>\n      <th>pawnEndgame</th>\n      <td>0.159832</td>\n    </tr>\n    <tr>\n      <th>kingsideAttack</th>\n      <td>0.231171</td>\n    </tr>\n    <tr>\n      <th>crushing</th>\n      <td>0.183202</td>\n    </tr>\n    <tr>\n      <th>bishopEndgame</th>\n      <td>0.102757</td>\n    </tr>\n    <tr>\n      <th>mateIn2</th>\n      <td>0.069840</td>\n    </tr>\n    <tr>\n      <th>long</th>\n      <td>0.046296</td>\n    </tr>\n    <tr>\n      <th>clearance</th>\n      <td>0.015348</td>\n    </tr>\n    <tr>\n      <th>discoveredAttack</th>\n      <td>0.046663</td>\n    </tr>\n    <tr>\n      <th>queenEndgame</th>\n      <td>0.099836</td>\n    </tr>\n    <tr>\n      <th>fork</th>\n      <td>0.039698</td>\n    </tr>\n    <tr>\n      <th>sacrifice</th>\n      <td>0.044288</td>\n    </tr>\n    <tr>\n      <th>mateIn5</th>\n      <td>0.025828</td>\n    </tr>\n    <tr>\n      <th>oneMove</th>\n      <td>0.052584</td>\n    </tr>\n    <tr>\n      <th>superGM</th>\n      <td>0.002394</td>\n    </tr>\n    <tr>\n      <th>trappedPiece</th>\n      <td>0.054453</td>\n    </tr>\n    <tr>\n      <th>smotheredMate</th>\n      <td>0.019054</td>\n    </tr>\n    <tr>\n      <th>queenRookEndgame</th>\n      <td>0.076436</td>\n    </tr>\n    <tr>\n      <th>endgame</th>\n      <td>1.000000</td>\n    </tr>\n    <tr>\n      <th>masterVsMaster</th>\n      <td>0.003387</td>\n    </tr>\n    <tr>\n      <th>arabianMate</th>\n      <td>0.034115</td>\n    </tr>\n    <tr>\n      <th>opening</th>\n      <td>0.243392</td>\n    </tr>\n    <tr>\n      <th>doubleBishopMate</th>\n      <td>0.029327</td>\n    </tr>\n    <tr>\n      <th>doubleCheck</th>\n      <td>0.023066</td>\n    </tr>\n    <tr>\n      <th>hookMate</th>\n      <td>0.029327</td>\n    </tr>\n    <tr>\n      <th>mateIn1</th>\n      <td>0.005112</td>\n    </tr>\n    <tr>\n      <th>capturingDefender</th>\n      <td>0.025071</td>\n    </tr>\n    <tr>\n      <th>defensiveMove</th>\n      <td>0.109324</td>\n    </tr>\n    <tr>\n      <th>skewer</th>\n      <td>0.093369</td>\n    </tr>\n    <tr>\n      <th>interference</th>\n      <td>0.004005</td>\n    </tr>\n    <tr>\n      <th>xRayAttack</th>\n      <td>0.042536</td>\n    </tr>\n    <tr>\n      <th>exposedKing</th>\n      <td>0.017873</td>\n    </tr>\n    <tr>\n      <th>hangingPiece</th>\n      <td>0.066872</td>\n    </tr>\n    <tr>\n      <th>enPassant</th>\n      <td>0.020732</td>\n    </tr>\n    <tr>\n      <th>attraction</th>\n      <td>0.016426</td>\n    </tr>\n    <tr>\n      <th>master</th>\n      <td>0.059095</td>\n    </tr>\n    <tr>\n      <th>equality</th>\n      <td>0.020997</td>\n    </tr>\n    <tr>\n      <th>advantage</th>\n      <td>0.246334</td>\n    </tr>\n    <tr>\n      <th>intermezzo</th>\n      <td>0.070257</td>\n    </tr>\n    <tr>\n      <th>short</th>\n      <td>0.008901</td>\n    </tr>\n    <tr>\n      <th>advancedPawn</th>\n      <td>0.141845</td>\n    </tr>\n    <tr>\n      <th>veryLong</th>\n      <td>0.004768</td>\n    </tr>\n    <tr>\n      <th>anastasiaMate</th>\n      <td>0.022483</td>\n    </tr>\n    <tr>\n      <th>queensideAttack</th>\n      <td>0.038933</td>\n    </tr>\n    <tr>\n      <th>pin</th>\n      <td>0.081942</td>\n    </tr>\n    <tr>\n      <th>mate</th>\n      <td>0.073474</td>\n    </tr>\n    <tr>\n      <th>mateIn3</th>\n      <td>0.022444</td>\n    </tr>\n    <tr>\n      <th>mateIn4</th>\n      <td>0.000118</td>\n    </tr>\n    <tr>\n      <th>backRankMate</th>\n      <td>0.117841</td>\n    </tr>\n    <tr>\n      <th>middlegame</th>\n      <td>0.878859</td>\n    </tr>\n    <tr>\n      <th>rookEndgame</th>\n      <td>0.217217</td>\n    </tr>\n    <tr>\n      <th>zugzwang</th>\n      <td>0.076436</td>\n    </tr>\n    <tr>\n      <th>quietMove</th>\n      <td>0.100327</td>\n    </tr>\n    <tr>\n      <th>attackingF2F7</th>\n      <td>0.074905</td>\n    </tr>\n    <tr>\n      <th>dovetailMate</th>\n      <td>0.013826</td>\n    </tr>\n    <tr>\n      <th>knightEndgame</th>\n      <td>0.068332</td>\n    </tr>\n    <tr>\n      <th>deflection</th>\n      <td>0.040674</td>\n    </tr>\n    <tr>\n      <th>promotion</th>\n      <td>0.094242</td>\n    </tr>\n  </tbody>\n</table>\n</div>"
     },
     "metadata": {},
     "execution_count": 23
    }
   ],
   "source": [
    "# Create board positions with piece vectors\n",
    "\n",
    "start = time.time()\n",
    "\n",
    "squares = chess.SQUARE_NAMES\n",
    "\n",
    "# pawn, knight, bishop, rook, king\n",
    "# queen will be encoded as bishop + rook\n",
    "pieces = ['p', 'n', 'b', 'r', 'k'] \n",
    "for s in squares:\n",
    "    for p in pieces:\n",
    "        df[f\"{s}.{p}\"] = 0\n",
    "\n",
    "end = time.time()\n",
    "print(end - start)"
   ]
  },
  {
   "cell_type": "code",
   "execution_count": 104,
   "metadata": {},
   "outputs": [
    {
     "output_type": "stream",
     "name": "stdout",
     "text": [
      "r2q3k/ppp3pB/3p3B/8/3b4/2N2P1b/PnQ2P2/R3R1K1 b - - 0 20\n8/p2n2pk/3p1p1p/4pP1B/2PpP3/P2P1QRP/1r1q2PK/8 w - - 5 33\nr1r3k1/p4ppp/4p3/8/3P4/4P3/qPR2PPP/2Q3K1 w - - 0 25\n1r4k1/1q3p2/1p1P2p1/p1pQ3p/2P4P/1R4P1/5PK1/8 w - - 4 37\n8/r3k2p/2p1p1p1/1rP1B3/p4R2/4P1PP/PP6/4K3 w - - 2 35\n2k3r1/p7/2P5/3p1b1p/3B2Pq/1P2P2P/P6Q/2R2K2 b - - 1 31\n6k1/6p1/1R4P1/4r3/2b5/8/P4K2/8 w - - 1 39\nr3r1k1/5ppp/8/1q1p1Q2/p1p1n3/2P5/PP2RPPP/2B1R1K1 w - - 0 23\n0.07243752479553223\n"
     ]
    }
   ],
   "source": [
    "# Transform FEN into board positions and pieces\n",
    "\n",
    "start = time.time()\n",
    "\n",
    "for row in df.itertuples():\n",
    "    board = chess.Board(row.FEN)\n",
    "\n",
    "    # color -> false = preto / true = branco\n",
    "    for pos, piece in board.piece_map().items():\n",
    "        square_name = chess.square_name(pos)\n",
    "        df[f\"{square_name}.{piece.lower()}\"] = 1 if piece.color else -1\n",
    "\n",
    "\n",
    "end = time.time()\n",
    "print(end - start)"
   ]
  },
  {
   "cell_type": "code",
   "execution_count": null,
   "metadata": {},
   "outputs": [],
   "source": []
  }
 ]
}