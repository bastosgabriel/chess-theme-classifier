{
 "metadata": {
  "language_info": {
   "codemirror_mode": {
    "name": "ipython",
    "version": 3
   },
   "file_extension": ".py",
   "mimetype": "text/x-python",
   "name": "python",
   "nbconvert_exporter": "python",
   "pygments_lexer": "ipython3",
   "version": "3.7.10"
  },
  "orig_nbformat": 2,
  "kernelspec": {
   "name": "python3710jvsc74a57bd093f4f5b237b8f8df832884c2e2dec106b12a1aa580993933cf7074bb792b7374",
   "display_name": "Python 3.7.10 64-bit ('chessenv': conda)"
  },
  "metadata": {
   "interpreter": {
    "hash": "93f4f5b237b8f8df832884c2e2dec106b12a1aa580993933cf7074bb792b7374"
   }
  }
 },
 "nbformat": 4,
 "nbformat_minor": 2,
 "cells": [
  {
   "cell_type": "code",
   "execution_count": 97,
   "metadata": {},
   "outputs": [],
   "source": [
    "import pandas as pd\n",
    "import numpy as np\n",
    "from time import time\n",
    "\n",
    "df = pd.read_csv('puzzle_batches/small_batch.csv')\n",
    "df = df[['FEN','Moves','Themes']].dropna()\n",
    "#df"
   ]
  },
  {
   "cell_type": "code",
   "execution_count": 98,
   "metadata": {
    "tags": []
   },
   "outputs": [],
   "source": [
    "# Execute computer move\n",
    "\n",
    "import chess\n",
    "\n",
    "#print(df['FEN'])\n",
    "for row in df.itertuples():\n",
    "    board = chess.Board(row.FEN)\n",
    "\n",
    "    computer_move = row.Moves.split()[0]\n",
    "    board.push_uci(computer_move)\n",
    "    df.loc[row.Index].FEN = board.fen()\n",
    "\n",
    "df.drop(['Moves'], inplace=True, axis=1)"
   ]
  },
  {
   "cell_type": "code",
   "execution_count": 99,
   "metadata": {},
   "outputs": [
    {
     "output_type": "stream",
     "name": "stdout",
     "text": [
      "0.009260416030883789\n"
     ]
    }
   ],
   "source": [
    "# Create valid_themes columns\n",
    "\n",
    "start = time()\n",
    "\n",
    "used_themes = {\n",
    "    \"advancedPawn\", \"advantage\", \"bishopEndgame\", \"capturingDefender\", \"crushing\", \"equality\", \"kingsideAttack\", \"defensiveMove\", \"endgame\",\n",
    "    \"exposedKing\", \"fork\", \"hangingPiece\", \"interference\", \"knightEndgame\", \"middlegame\", \"opening\", \"pawnEndgame\", \"pin\", \"promotion\", \"queenEndgame\",\n",
    "    \"queenRookEndgame\", \"queensideAttack\", \"rookEndgame\", \"skewer\", \"trappedPiece\", \"underPromotion\", \"xRayAttack\", \"zugzwang\",\n",
    "}\n",
    "\n",
    "df['valid_themes'] = \"\"\n",
    "for row in df.itertuples():\n",
    "    row_themes = set(row.Themes.split())\n",
    "    valid_themes = row_themes.intersection(used_themes)\n",
    "    #print(f\"valid themes {valid_themes}\")\n",
    "\n",
    "    df.loc[row.Index].valid_themes = \" \".join(valid_themes)\n",
    "\n",
    "themes_dummies = df.valid_themes.str.get_dummies(' ').add_prefix('theme_')\n",
    "df = pd.concat([df, themes_dummies], axis=1)\n",
    "\n",
    "end = time()\n",
    "print(end - start)\n",
    "#df.drop(['Themes', 'valid_themes'], inplace=True, axis=1)"
   ]
  },
  {
   "cell_type": "code",
   "execution_count": 103,
   "metadata": {},
   "outputs": [
    {
     "output_type": "stream",
     "name": "stdout",
     "text": [
      "['a1', 'b1', 'c1', 'd1', 'e1', 'f1', 'g1', 'h1', 'a2', 'b2', 'c2', 'd2', 'e2', 'f2', 'g2', 'h2', 'a3', 'b3', 'c3', 'd3', 'e3', 'f3', 'g3', 'h3', 'a4', 'b4', 'c4', 'd4', 'e4', 'f4', 'g4', 'h4', 'a5', 'b5', 'c5', 'd5', 'e5', 'f5', 'g5', 'h5', 'a6', 'b6', 'c6', 'd6', 'e6', 'f6', 'g6', 'h6', 'a7', 'b7', 'c7', 'd7', 'e7', 'f7', 'g7', 'h7', 'a8', 'b8', 'c8', 'd8', 'e8', 'f8', 'g8', 'h8']\n0.09139013290405273\n"
     ]
    }
   ],
   "source": [
    "# Create board positions with piece vectors\n",
    "\n",
    "start = time()\n",
    "\n",
    "squares = chess.SQUARE_NAMES\n",
    "\n",
    "# pawn, knight, bishop, rook, king\n",
    "# queen will be encoded as bishop + rook\n",
    "pieces = ['p', 'n', 'b', 'r', 'k'] \n",
    "for s in squares:\n",
    "    for p in pieces:\n",
    "        df[f\"{s}.{p}\"] = 0\n",
    "\n",
    "end = time()\n",
    "print(end - start)"
   ]
  },
  {
   "cell_type": "code",
   "execution_count": null,
   "metadata": {},
   "outputs": [],
   "source": []
  }
 ]
}