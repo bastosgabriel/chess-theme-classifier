{
 "metadata": {
  "language_info": {
   "codemirror_mode": {
    "name": "ipython",
    "version": 3
   },
   "file_extension": ".py",
   "mimetype": "text/x-python",
   "name": "python",
   "nbconvert_exporter": "python",
   "pygments_lexer": "ipython3",
   "version": "3.7.10"
  },
  "orig_nbformat": 2,
  "kernelspec": {
   "name": "python3710jvsc74a57bd093f4f5b237b8f8df832884c2e2dec106b12a1aa580993933cf7074bb792b7374",
   "display_name": "Python 3.7.10 64-bit ('chessenv': conda)"
  },
  "metadata": {
   "interpreter": {
    "hash": "93f4f5b237b8f8df832884c2e2dec106b12a1aa580993933cf7074bb792b7374"
   }
  }
 },
 "nbformat": 4,
 "nbformat_minor": 2,
 "cells": [
  {
   "cell_type": "code",
   "execution_count": 2,
   "metadata": {},
   "outputs": [],
   "source": [
    "precision_list = [('theme_pawnEndgame', 0.9997559165415988),\n",
    " ('theme_endgame', 0.9980679278295668),\n",
    " ('theme_middlegame', 0.995637438653032),\n",
    " ('theme_rookEndgame', 0.9945147755892573),\n",
    " ('theme_queenEndgame', 0.9729579089649956),\n",
    " ('theme_knightEndgame', 0.958926436594622),\n",
    " ('theme_bishopEndgame', 0.9523010583424915),\n",
    " ('theme_opening', 0.9512077062780298),\n",
    " ('theme_crushing', 0.678733646884891),\n",
    " ('theme_advantage', 0.6278594584750623),\n",
    " ('theme_queenRookEndgame', 0.596016065376292),\n",
    " ('theme_kingsideAttack', 0.4777859868629296),\n",
    " ('theme_advancedPawn', 0.4716307110522459),\n",
    " ('theme_fork', 0.44151447387284454),\n",
    " ('theme_queensideAttack', 0.39799397071448595),\n",
    " ('theme_promotion', 0.3698902977884923),\n",
    " ('theme_zugzwang', 0.31888027248131934),\n",
    " ('theme_pin', 0.205042762101956),\n",
    " ('theme_trappedPiece', 0.17869181895874497),\n",
    " ('theme_defensiveMove', 0.16967431258250204),\n",
    " ('theme_skewer', 0.1573740316039851),\n",
    " ('theme_hangingPiece', 0.14738925937736588),\n",
    " ('theme_exposedKing', 0.09731889232215116),\n",
    " ('theme_equality', 0.07804426341746032),\n",
    " ('theme_capturingDefender', 0.043758049804267125),\n",
    " ('theme_xRayAttack', 0.04301927043002737),\n",
    " ('theme_interference', 0.01016262193525246),\n",
    " ('theme_underPromotion', 0.0014734686706204493)]\n",
    " "
   ]
  },
  {
   "cell_type": "code",
   "execution_count": 3,
   "metadata": {},
   "outputs": [],
   "source": [
    "auroc_list = [('theme_pawnEndgame', 0.9999967585824551),\n",
    " ('theme_rookEndgame', 0.9998197227430772),\n",
    " ('theme_knightEndgame', 0.9997999607313974),\n",
    " ('theme_queenEndgame', 0.9996964341778328),\n",
    " ('theme_bishopEndgame', 0.9995729091353599),\n",
    " ('theme_endgame', 0.9985580176839745),\n",
    " ('theme_opening', 0.9968493079529288),\n",
    " ('theme_middlegame', 0.9952958247527878),\n",
    " ('theme_queenRookEndgame', 0.9948652034270851),\n",
    " ('theme_zugzwang', 0.9906938062789986),\n",
    " ('theme_queensideAttack', 0.9852885645088365),\n",
    " ('theme_promotion', 0.9533488364038298),\n",
    " ('theme_kingsideAttack', 0.9275667550366478),\n",
    " ('theme_advancedPawn', 0.9114307513074009),\n",
    " ('theme_underPromotion', 0.8679315538448664),\n",
    " ('theme_exposedKing', 0.862525379238151),\n",
    " ('theme_trappedPiece', 0.8421653395058151),\n",
    " ('theme_skewer', 0.8342309107266926),\n",
    " ('theme_xRayAttack', 0.776591409420329),\n",
    " ('theme_capturingDefender', 0.770269738582563),\n",
    " ('theme_advantage', 0.7591436422228686),\n",
    " ('theme_fork', 0.7562343208319188),\n",
    " ('theme_defensiveMove', 0.7559286302338247),\n",
    " ('theme_equality', 0.753938647847992),\n",
    " ('theme_crushing', 0.7480791993722021),\n",
    " ('theme_pin', 0.7399055576434395),\n",
    " ('theme_hangingPiece', 0.7120679577112239),\n",
    " ('theme_interference', 0.6930911033198768)]"
   ]
  },
  {
   "cell_type": "code",
   "execution_count": 4,
   "metadata": {},
   "outputs": [],
   "source": [
    "max_f1 = [('theme_pawnEndgame', 0.9990274265707061),\n",
    " ('theme_rookEndgame', 0.9836356307940346),\n",
    " ('theme_endgame', 0.9802077296839478),\n",
    " ('theme_middlegame', 0.9659462080228641),\n",
    " ('theme_knightEndgame', 0.9266600594648167),\n",
    " ('theme_queenEndgame', 0.922854387656702),\n",
    " ('theme_bishopEndgame', 0.901933216168717),\n",
    " ('theme_opening', 0.8839042133979994),\n",
    " ('theme_crushing', 0.6366491467133866),\n",
    " ('theme_advantage', 0.6014902343901436),\n",
    " ('theme_queenRookEndgame', 0.5704467353951891),\n",
    " ('theme_kingsideAttack', 0.5101376398156207),\n",
    " ('theme_advancedPawn', 0.5005456062648438),\n",
    " ('theme_queensideAttack', 0.45434672944341686),\n",
    " ('theme_fork', 0.4239145609381544),\n",
    " ('theme_promotion', 0.4144785640112743),\n",
    " ('theme_zugzwang', 0.3977485928705441),\n",
    " ('theme_defensiveMove', 0.2664581873079204),\n",
    " ('theme_pin', 0.24580373420506693),\n",
    " ('theme_trappedPiece', 0.2457389024161828),\n",
    " ('theme_skewer', 0.2352672453174966),\n",
    " ('theme_hangingPiece', 0.20089553616765912),\n",
    " ('theme_exposedKing', 0.17508582638548306),\n",
    " ('theme_equality', 0.14000126127262405),\n",
    " ('theme_xRayAttack', 0.1272923408845739),\n",
    " ('theme_capturingDefender', 0.08697611536728257),\n",
    " ('theme_interference', 0.032520325203252036),\n",
    " ('theme_underPromotion', 0.009118541033434652)]"
   ]
  },
  {
   "cell_type": "code",
   "execution_count": 19,
   "metadata": {},
   "outputs": [],
   "source": [
    "import pandas as pd\n",
    "import matplotlib.pyplot as plt\n",
    "\n",
    "precision_df = pd.DataFrame(precision_list, columns=['theme', 'precision'])\n",
    "auroc_df = pd.DataFrame(auroc_list, columns=['theme', 'auroc'])\n",
    "f1_df = pd.DataFrame(max_f1, columns=['theme', 'max_f1'])\n"
   ]
  },
  {
   "cell_type": "code",
   "execution_count": 29,
   "metadata": {},
   "outputs": [
    {
     "output_type": "execute_result",
     "data": {
      "text/plain": [
       "                      theme    max_f1\n",
       "0         theme_pawnEndgame  0.999027\n",
       "1         theme_rookEndgame  0.983636\n",
       "2             theme_endgame  0.980208\n",
       "3          theme_middlegame  0.965946\n",
       "4       theme_knightEndgame  0.926660\n",
       "5        theme_queenEndgame  0.922854\n",
       "6       theme_bishopEndgame  0.901933\n",
       "7             theme_opening  0.883904\n",
       "8            theme_crushing  0.636649\n",
       "9           theme_advantage  0.601490\n",
       "10   theme_queenRookEndgame  0.570447\n",
       "11     theme_kingsideAttack  0.510138\n",
       "12       theme_advancedPawn  0.500546\n",
       "13    theme_queensideAttack  0.454347\n",
       "14               theme_fork  0.423915\n",
       "15          theme_promotion  0.414479\n",
       "16           theme_zugzwang  0.397749\n",
       "17      theme_defensiveMove  0.266458\n",
       "18                theme_pin  0.245804\n",
       "19       theme_trappedPiece  0.245739\n",
       "20             theme_skewer  0.235267\n",
       "21       theme_hangingPiece  0.200896\n",
       "22        theme_exposedKing  0.175086\n",
       "23           theme_equality  0.140001\n",
       "24         theme_xRayAttack  0.127292\n",
       "25  theme_capturingDefender  0.086976\n",
       "26       theme_interference  0.032520\n",
       "27     theme_underPromotion  0.009119"
      ],
      "text/html": "<div>\n<style scoped>\n    .dataframe tbody tr th:only-of-type {\n        vertical-align: middle;\n    }\n\n    .dataframe tbody tr th {\n        vertical-align: top;\n    }\n\n    .dataframe thead th {\n        text-align: right;\n    }\n</style>\n<table border=\"1\" class=\"dataframe\">\n  <thead>\n    <tr style=\"text-align: right;\">\n      <th></th>\n      <th>theme</th>\n      <th>max_f1</th>\n    </tr>\n  </thead>\n  <tbody>\n    <tr>\n      <th>0</th>\n      <td>theme_pawnEndgame</td>\n      <td>0.999027</td>\n    </tr>\n    <tr>\n      <th>1</th>\n      <td>theme_rookEndgame</td>\n      <td>0.983636</td>\n    </tr>\n    <tr>\n      <th>2</th>\n      <td>theme_endgame</td>\n      <td>0.980208</td>\n    </tr>\n    <tr>\n      <th>3</th>\n      <td>theme_middlegame</td>\n      <td>0.965946</td>\n    </tr>\n    <tr>\n      <th>4</th>\n      <td>theme_knightEndgame</td>\n      <td>0.926660</td>\n    </tr>\n    <tr>\n      <th>5</th>\n      <td>theme_queenEndgame</td>\n      <td>0.922854</td>\n    </tr>\n    <tr>\n      <th>6</th>\n      <td>theme_bishopEndgame</td>\n      <td>0.901933</td>\n    </tr>\n    <tr>\n      <th>7</th>\n      <td>theme_opening</td>\n      <td>0.883904</td>\n    </tr>\n    <tr>\n      <th>8</th>\n      <td>theme_crushing</td>\n      <td>0.636649</td>\n    </tr>\n    <tr>\n      <th>9</th>\n      <td>theme_advantage</td>\n      <td>0.601490</td>\n    </tr>\n    <tr>\n      <th>10</th>\n      <td>theme_queenRookEndgame</td>\n      <td>0.570447</td>\n    </tr>\n    <tr>\n      <th>11</th>\n      <td>theme_kingsideAttack</td>\n      <td>0.510138</td>\n    </tr>\n    <tr>\n      <th>12</th>\n      <td>theme_advancedPawn</td>\n      <td>0.500546</td>\n    </tr>\n    <tr>\n      <th>13</th>\n      <td>theme_queensideAttack</td>\n      <td>0.454347</td>\n    </tr>\n    <tr>\n      <th>14</th>\n      <td>theme_fork</td>\n      <td>0.423915</td>\n    </tr>\n    <tr>\n      <th>15</th>\n      <td>theme_promotion</td>\n      <td>0.414479</td>\n    </tr>\n    <tr>\n      <th>16</th>\n      <td>theme_zugzwang</td>\n      <td>0.397749</td>\n    </tr>\n    <tr>\n      <th>17</th>\n      <td>theme_defensiveMove</td>\n      <td>0.266458</td>\n    </tr>\n    <tr>\n      <th>18</th>\n      <td>theme_pin</td>\n      <td>0.245804</td>\n    </tr>\n    <tr>\n      <th>19</th>\n      <td>theme_trappedPiece</td>\n      <td>0.245739</td>\n    </tr>\n    <tr>\n      <th>20</th>\n      <td>theme_skewer</td>\n      <td>0.235267</td>\n    </tr>\n    <tr>\n      <th>21</th>\n      <td>theme_hangingPiece</td>\n      <td>0.200896</td>\n    </tr>\n    <tr>\n      <th>22</th>\n      <td>theme_exposedKing</td>\n      <td>0.175086</td>\n    </tr>\n    <tr>\n      <th>23</th>\n      <td>theme_equality</td>\n      <td>0.140001</td>\n    </tr>\n    <tr>\n      <th>24</th>\n      <td>theme_xRayAttack</td>\n      <td>0.127292</td>\n    </tr>\n    <tr>\n      <th>25</th>\n      <td>theme_capturingDefender</td>\n      <td>0.086976</td>\n    </tr>\n    <tr>\n      <th>26</th>\n      <td>theme_interference</td>\n      <td>0.032520</td>\n    </tr>\n    <tr>\n      <th>27</th>\n      <td>theme_underPromotion</td>\n      <td>0.009119</td>\n    </tr>\n  </tbody>\n</table>\n</div>"
     },
     "metadata": {},
     "execution_count": 29
    }
   ],
   "source": [
    "f1_df"
   ]
  },
  {
   "cell_type": "code",
   "execution_count": null,
   "metadata": {},
   "outputs": [],
   "source": []
  },
  {
   "cell_type": "code",
   "execution_count": 26,
   "metadata": {},
   "outputs": [],
   "source": [
    "precision_df.to_csv('precision_df.csv', index=False)\n",
    "auroc_df.to_csv('auroc_df.csv', index=False)\n",
    "f1_df.to_csv('f1_df.csv', index=False)"
   ]
  },
  {
   "cell_type": "code",
   "execution_count": null,
   "metadata": {},
   "outputs": [],
   "source": []
  }
 ]
}